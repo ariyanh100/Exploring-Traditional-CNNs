{
  "cells": [
    {
      "cell_type": "code",
      "execution_count": null,
      "metadata": {
        "id": "BYQLSIOiGDvP"
      },
      "outputs": [],
      "source": [
        "import tensorflow as tf\n",
        "from tensorflow.keras import datasets, layers, models\n",
        "import matplotlib.pyplot as plt\n",
        "import numpy as np"
      ]
    },
    {
      "cell_type": "markdown",
      "metadata": {
        "id": "REplwKL7GDvP"
      },
      "source": [
        "<h4 style=\"color:purple\">Load the dataset</h4>"
      ]
    },
    {
      "cell_type": "code",
      "execution_count": null,
      "metadata": {
        "id": "boduR0GSGDvP"
      },
      "outputs": [],
      "source": [
        "(X_train, y_train), (X_test,y_test) = datasets.cifar10.load_data()"
      ]
    },
    {
      "cell_type": "code",
      "execution_count": null,
      "metadata": {
        "id": "nLcUa9YwGDvQ",
        "outputId": "3fde7bc2-e438-4af1-db58-afca30f996df",
        "colab": {
          "base_uri": "https://localhost:8080/"
        }
      },
      "outputs": [
        {
          "output_type": "stream",
          "name": "stdout",
          "text": [
            "X_train Shape:  (50000, 32, 32, 3)\n",
            "X_test Shape:  (10000, 32, 32, 3)\n",
            "y_train Shape:  (50000, 1)\n",
            "y_test Shape:  (10000, 1)\n"
          ]
        }
      ],
      "source": [
        "print(\"X_train Shape: \",X_train.shape)\n",
        "print(\"X_test Shape: \",X_test.shape)\n",
        "print(\"y_train Shape: \",y_train.shape)\n",
        "print(\"y_test Shape: \",y_test.shape)"
      ]
    },
    {
      "cell_type": "code",
      "execution_count": null,
      "metadata": {
        "id": "1P9aBXPgGDvR",
        "outputId": "2cc369f0-d2ba-4b6e-e96a-39504df3225b",
        "colab": {
          "base_uri": "https://localhost:8080/"
        }
      },
      "outputs": [
        {
          "output_type": "execute_result",
          "data": {
            "text/plain": [
              "array([[6],\n",
              "       [9],\n",
              "       [9],\n",
              "       [4],\n",
              "       [1]], dtype=uint8)"
            ]
          },
          "metadata": {},
          "execution_count": 6
        }
      ],
      "source": [
        "y_train[:5]"
      ]
    },
    {
      "cell_type": "markdown",
      "metadata": {
        "id": "r2pgM2ndGDvR"
      },
      "source": [
        "y_train is a 2D array, for our classification having 1D array is good enough. so we will convert this to now 1D array"
      ]
    },
    {
      "cell_type": "code",
      "execution_count": null,
      "metadata": {
        "scrolled": true,
        "id": "r6e7mWE1GDvR",
        "outputId": "6cdf1f06-1036-4ff1-8d9b-bb619f079b45",
        "colab": {
          "base_uri": "https://localhost:8080/"
        }
      },
      "outputs": [
        {
          "output_type": "execute_result",
          "data": {
            "text/plain": [
              "array([6, 9, 9, 4, 1], dtype=uint8)"
            ]
          },
          "metadata": {},
          "execution_count": 7
        }
      ],
      "source": [
        "y_train = y_train.reshape(-1,)\n",
        "y_train[:5]"
      ]
    },
    {
      "cell_type": "code",
      "execution_count": null,
      "metadata": {
        "id": "bcTn8dCkGDvR"
      },
      "outputs": [],
      "source": [
        "y_test = y_test.reshape(-1,)"
      ]
    },
    {
      "cell_type": "code",
      "execution_count": null,
      "metadata": {
        "id": "zvTwcpCYGDvR"
      },
      "outputs": [],
      "source": [
        "classes = [\"airplane\",\"automobile\",\"bird\",\"cat\",\"deer\",\"dog\",\"frog\",\"horse\",\"ship\",\"truck\"]"
      ]
    },
    {
      "cell_type": "markdown",
      "metadata": {
        "id": "_bdkRn4-GDvS"
      },
      "source": [
        "Let's plot some images to see what they are"
      ]
    },
    {
      "cell_type": "code",
      "execution_count": null,
      "metadata": {
        "id": "9R8NOywxGDvS"
      },
      "outputs": [],
      "source": [
        "def plot_sample(X, y, index):\n",
        "    plt.figure(figsize = (15,2))\n",
        "    plt.imshow(X[index])\n",
        "    plt.xlabel(classes[y[index]])"
      ]
    },
    {
      "cell_type": "code",
      "execution_count": null,
      "metadata": {
        "scrolled": true,
        "id": "XT8icaqHGDvS",
        "outputId": "80b69801-dc55-40f7-b98f-50e317a2e791",
        "colab": {
          "base_uri": "https://localhost:8080/",
          "height": 237
        }
      },
      "outputs": [
        {
          "output_type": "display_data",
          "data": {
            "text/plain": [
              "<Figure size 1500x200 with 1 Axes>"
            ],
            "image/png": "[encoded data removed]"
          },
          "metadata": {}
        }
      ],
      "source": [
        "plot_sample(X_train, y_train, 0)"
      ]
    },
    {
      "cell_type": "code",
      "execution_count": null,
      "metadata": {
        "id": "1xpPXa4rGDvS",
        "outputId": "fefd3226-bd36-49aa-9435-eb76a8149efe",
        "colab": {
          "base_uri": "https://localhost:8080/",
          "height": 237
        }
      },
      "outputs": [
        {
          "output_type": "display_data",
          "data": {
            "text/plain": [
              "<Figure size 1500x200 with 1 Axes>"
            ],
            "image/png": "[encoded data removed]"
          },
          "metadata": {}
        }
      ],
      "source": [
        "plot_sample(X_train, y_train, 1)"
      ]
    },
    {
      "cell_type": "markdown",
      "metadata": {
        "id": "jZtc1ovuGDvS"
      },
      "source": [
        "Normalize the images to a number from 0 to 1. Image has 3 channels (R,G,B) and each value in the channel can range from 0 to 255. Hence to normalize in 0-->1 range, we need to divide it by 255"
      ]
    },
    {
      "cell_type": "markdown",
      "metadata": {
        "id": "-H1GTozoGDvS"
      },
      "source": [
        "<h4 style=\"color:purple\">Normalizing the training data</h4>"
      ]
    },
    {
      "cell_type": "code",
      "execution_count": null,
      "metadata": {
        "id": "4mPDcfMSGDvT"
      },
      "outputs": [],
      "source": [
        "X_train = X_train / 255.0\n",
        "X_test = X_test / 255.0"
      ]
    },
    {
      "cell_type": "markdown",
      "metadata": {
        "id": "hZ-hK_y3GDvT"
      },
      "source": [
        "<h4 style=\"color:purple\">Training using CNN</h4>"
      ]
    },
    {
      "cell_type": "code",
      "execution_count": null,
      "metadata": {
        "id": "wy7WSbusGDvT"
      },
      "outputs": [],
      "source": [
        "cnn = models.Sequential([\n",
        "    layers.Conv2D(filters=32, kernel_size=(3, 3), strides=(1, 1), activation='relu', input_shape=(32, 32, 3)),\n",
        "    layers.MaxPooling2D((2, 2)),\n",
        "\n",
        "    layers.Conv2D(filters=32, kernel_size=(3, 3), strides=(1, 1), activation='relu'),\n",
        "    layers.MaxPooling2D((2, 2)),\n",
        "\n",
        "    layers.Flatten(),\n",
        "    layers.Dense(64, activation='relu'),\n",
        "    layers.Dense(10, activation='softmax')\n",
        "])"
      ]
    },
    {
      "cell_type": "code",
      "execution_count": null,
      "metadata": {
        "id": "xiwce9z2GDvT"
      },
      "outputs": [],
      "source": [
        "cnn.compile(optimizer='adam',\n",
        "              loss='sparse_categorical_crossentropy',\n",
        "              metrics=['accuracy'])"
      ]
    },
    {
      "cell_type": "code",
      "execution_count": null,
      "metadata": {
        "scrolled": false,
        "id": "QJ9G7IujGDvU",
        "outputId": "7c2225bd-a1be-4bb0-a9f2-3582ec7e53d7",
        "colab": {
          "base_uri": "https://localhost:8080/"
        }
      },
      "outputs": [
        {
          "output_type": "stream",
          "name": "stdout",
          "text": [
            "Epoch 1/10\n",
            "1563/1563 [==============================] - 9s 4ms/step - loss: 1.4875 - accuracy: 0.4633\n",
            "Epoch 2/10\n",
            "1563/1563 [==============================] - 7s 5ms/step - loss: 1.1653 - accuracy: 0.5920\n",
            "Epoch 3/10\n",
            "1563/1563 [==============================] - 6s 4ms/step - loss: 1.0352 - accuracy: 0.6389\n",
            "Epoch 4/10\n",
            "1563/1563 [==============================] - 7s 5ms/step - loss: 0.9559 - accuracy: 0.6653\n",
            "Epoch 5/10\n",
            "1563/1563 [==============================] - 6s 4ms/step - loss: 0.8972 - accuracy: 0.6877\n",
            "Epoch 6/10\n",
            "1563/1563 [==============================] - 8s 5ms/step - loss: 0.8498 - accuracy: 0.7044\n",
            "Epoch 7/10\n",
            "1563/1563 [==============================] - 7s 4ms/step - loss: 0.8149 - accuracy: 0.7163\n",
            "Epoch 8/10\n",
            "1563/1563 [==============================] - 7s 5ms/step - loss: 0.7750 - accuracy: 0.7296\n",
            "Epoch 9/10\n",
            "1563/1563 [==============================] - 7s 4ms/step - loss: 0.7402 - accuracy: 0.7414\n",
            "Epoch 10/10\n",
            "1563/1563 [==============================] - 7s 4ms/step - loss: 0.7062 - accuracy: 0.7540\n"
          ]
        },
        {
          "output_type": "execute_result",
          "data": {
            "text/plain": [
              "<keras.callbacks.History at 0x7c706020cf40>"
            ]
          },
          "metadata": {},
          "execution_count": 29
        }
      ],
      "source": [
        "cnn.fit(X_train, y_train, epochs=10)"
      ]
    },
    {
      "cell_type": "code",
      "execution_count": null,
      "metadata": {
        "scrolled": true,
        "id": "-m42XRKdGDvU",
        "outputId": "5d979a82-05a3-4304-88fe-a5c119897728",
        "colab": {
          "base_uri": "https://localhost:8080/"
        }
      },
      "outputs": [
        {
          "output_type": "stream",
          "name": "stdout",
          "text": [
            "313/313 [==============================] - 1s 3ms/step - loss: 0.9382 - accuracy: 0.6816\n"
          ]
        },
        {
          "output_type": "execute_result",
          "data": {
            "text/plain": [
              "[0.9381975531578064, 0.6815999746322632]"
            ]
          },
          "metadata": {},
          "execution_count": 30
        }
      ],
      "source": [
        "cnn.evaluate(X_test,y_test)"
      ]
    },
    {
      "cell_type": "code",
      "source": [
        "from sklearn.metrics import confusion_matrix , classification_report\n",
        "import numpy as np\n",
        "y_pred = cnn.predict(X_test)\n",
        "y_pred_classes = [np.argmax(element) for element in y_pred]\n",
        "\n",
        "print(\"Classification Report: \\n\", classification_report(y_test, y_pred_classes))"
      ],
      "metadata": {
        "colab": {
          "base_uri": "https://localhost:8080/"
        },
        "id": "mcmo9JEQJ93Z",
        "outputId": "b0d7d1f6-8233-48ec-9d30-ecba57ceb534"
      },
      "execution_count": null,
      "outputs": [
        {
          "output_type": "stream",
          "name": "stdout",
          "text": [
            "313/313 [==============================] - 1s 3ms/step\n",
            "Classification Report: \n",
            "               precision    recall  f1-score   support\n",
            "\n",
            "           0       0.76      0.68      0.72      1000\n",
            "           1       0.80      0.79      0.79      1000\n",
            "           2       0.61      0.49      0.55      1000\n",
            "           3       0.52      0.46      0.49      1000\n",
            "           4       0.61      0.64      0.62      1000\n",
            "           5       0.54      0.68      0.60      1000\n",
            "           6       0.70      0.83      0.76      1000\n",
            "           7       0.79      0.68      0.73      1000\n",
            "           8       0.77      0.79      0.78      1000\n",
            "           9       0.75      0.77      0.76      1000\n",
            "\n",
            "    accuracy                           0.68     10000\n",
            "   macro avg       0.68      0.68      0.68     10000\n",
            "weighted avg       0.68      0.68      0.68     10000\n",
            "\n"
          ]
        }
      ]
    },
    {
      "cell_type": "code",
      "execution_count": null,
      "metadata": {
        "id": "QJ2TomU1GDvU",
        "outputId": "798c3a02-610f-473e-ff5d-d4712b100f30",
        "colab": {
          "base_uri": "https://localhost:8080/"
        }
      },
      "outputs": [
        {
          "output_type": "stream",
          "name": "stdout",
          "text": [
            "313/313 [==============================] - 1s 2ms/step\n"
          ]
        },
        {
          "output_type": "execute_result",
          "data": {
            "text/plain": [
              "array([[1.2417983e-04, 7.0417462e-07, 5.3947454e-04, 6.2016922e-01,\n",
              "        1.1430586e-05, 3.7144154e-01, 6.7956862e-03, 4.1661706e-06,\n",
              "        9.0864551e-04, 4.9936530e-06],\n",
              "       [2.1057511e-03, 5.0916187e-03, 7.1833250e-09, 9.9462980e-08,\n",
              "        5.5206804e-08, 2.7027638e-09, 7.8798457e-10, 7.2104456e-10,\n",
              "        9.9016625e-01, 2.6362913e-03],\n",
              "       [1.0774763e-02, 2.8016204e-02, 3.0226093e-03, 9.8738482e-04,\n",
              "        3.9147455e-02, 1.1750308e-04, 2.0412500e-04, 2.2402888e-03,\n",
              "        9.0103656e-01, 1.4453099e-02],\n",
              "       [5.2986896e-01, 9.0642490e-05, 2.4812633e-01, 5.7927326e-05,\n",
              "        8.9354680e-06, 2.9539668e-05, 2.5980200e-03, 4.6210939e-06,\n",
              "        2.1921381e-01, 1.1898107e-06],\n",
              "       [3.9222448e-09, 9.2281298e-06, 2.9086052e-02, 1.4181826e-01,\n",
              "        5.9924942e-01, 6.3179043e-04, 2.2920154e-01, 2.3606972e-06,\n",
              "        1.2740047e-06, 6.0168333e-08]], dtype=float32)"
            ]
          },
          "metadata": {},
          "execution_count": 17
        }
      ],
      "source": [
        "y_pred = cnn.predict(X_test)\n",
        "y_pred[:5]"
      ]
    },
    {
      "cell_type": "code",
      "execution_count": null,
      "metadata": {
        "id": "_JmzUYKoGDvU",
        "outputId": "3b2f6960-a917-4010-e5e8-f410077da0a0",
        "colab": {
          "base_uri": "https://localhost:8080/"
        }
      },
      "outputs": [
        {
          "output_type": "execute_result",
          "data": {
            "text/plain": [
              "[3, 8, 8, 0, 4]"
            ]
          },
          "metadata": {},
          "execution_count": 18
        }
      ],
      "source": [
        "y_classes = [np.argmax(element) for element in y_pred]\n",
        "y_classes[:5]"
      ]
    },
    {
      "cell_type": "code",
      "execution_count": null,
      "metadata": {
        "id": "Zr158Lx5GDvU",
        "outputId": "289cf300-c81e-4fab-8e94-aa4935d4523c",
        "colab": {
          "base_uri": "https://localhost:8080/"
        }
      },
      "outputs": [
        {
          "output_type": "execute_result",
          "data": {
            "text/plain": [
              "array([3, 8, 8, 0, 6], dtype=uint8)"
            ]
          },
          "metadata": {},
          "execution_count": 19
        }
      ],
      "source": [
        "y_test[:5]"
      ]
    },
    {
      "cell_type": "code",
      "execution_count": null,
      "metadata": {
        "id": "52FSwcxuGDvU",
        "outputId": "558ba3e4-8273-4b66-d8e1-889f9c45479e",
        "colab": {
          "base_uri": "https://localhost:8080/",
          "height": 237
        }
      },
      "outputs": [
        {
          "output_type": "display_data",
          "data": {
            "text/plain": [
              "<Figure size 1500x200 with 1 Axes>"
            ],
            "image/png": "[encoded data removed]"
          },
          "metadata": {}
        }
      ],
      "source": [
        "plot_sample(X_test, y_test,3)"
      ]
    },
    {
      "cell_type": "code",
      "execution_count": null,
      "metadata": {
        "id": "RNzQrQQSGDvV",
        "outputId": "52d011e7-87fc-49bb-ea11-5e0503e6215a",
        "colab": {
          "base_uri": "https://localhost:8080/",
          "height": 35
        }
      },
      "outputs": [
        {
          "output_type": "execute_result",
          "data": {
            "text/plain": [
              "'airplane'"
            ],
            "application/vnd.google.colaboratory.intrinsic+json": {
              "type": "string"
            }
          },
          "metadata": {},
          "execution_count": 21
        }
      ],
      "source": [
        "classes[y_classes[3]]"
      ]
    },
    {
      "cell_type": "code",
      "source": [
        "from tensorflow.keras import layers, models\n",
        "from sklearn.metrics import classification_report\n",
        "import numpy as np\n",
        "\n",
        "# Define varying hyperparameters\n",
        "activation_functions = ['relu', 'tanh', 'sigmoid']\n",
        "filter_options = [32, 64]\n",
        "kernel_sizes = [(3, 3), (5, 5)]\n",
        "stride_options = [(1, 1), (2, 2)]\n",
        "\n",
        "# Create a list to store classification reports\n",
        "classification_reports = []\n",
        "\n",
        "# Loop over hyperparameters\n",
        "for activation in activation_functions:\n",
        "    for num_filters in filter_options:\n",
        "        for kernel_size in kernel_sizes:\n",
        "            for stride in stride_options:\n",
        "                # Create a new CNN model\n",
        "                cnn_model = models.Sequential([\n",
        "                    layers.Conv2D(filters=num_filters, kernel_size=kernel_size, strides=stride, activation=activation, input_shape=(32, 32, 3)),\n",
        "                    layers.MaxPooling2D((2, 2)),\n",
        "                    layers.Conv2D(filters=num_filters, kernel_size=kernel_size, strides=stride, activation=activation),\n",
        "                    layers.MaxPooling2D((2, 2)),\n",
        "                    layers.Flatten(),\n",
        "                    layers.Dense(64, activation=activation),\n",
        "                    layers.Dense(10, activation='softmax')\n",
        "                ])\n",
        "\n",
        "                # Compile the model\n",
        "                cnn_model.compile(optimizer='adam',\n",
        "                                 loss='sparse_categorical_crossentropy',\n",
        "                                 metrics=['accuracy'])\n",
        "\n",
        "                # Train the model\n",
        "                cnn_model.fit(X_train, y_train, epochs=10)\n",
        "\n",
        "                # Evaluate on test data\n",
        "                loss, accuracy = cnn_model.evaluate(X_test, y_test)\n",
        "                print(f\"Model with activation: {activation}, filters: {num_filters}, kernel: {kernel_size}, stride: {stride}\")\n",
        "                print(\"Test Accuracy:\", accuracy)\n",
        "\n",
        "                # Predict and calculate classification report\n",
        "                y_pred = cnn_model.predict(X_test)\n",
        "                y_pred_classes = [np.argmax(element) for element in y_pred]\n",
        "                report = classification_report(y_test, y_pred_classes, output_dict=True)\n",
        "\n",
        "                # Store classification report\n",
        "                model_info = {\n",
        "                    'activation': activation,\n",
        "                    'filters': num_filters,\n",
        "                    'kernel': kernel_size,\n",
        "                    'stride': stride,\n",
        "                    'report': report\n",
        "                }\n",
        "                classification_reports.append(model_info)"
      ],
      "metadata": {
        "colab": {
          "base_uri": "https://localhost:8080/"
        },
        "id": "fmgChGJUHGWO",
        "outputId": "e30876c3-62b7-41ab-969b-1907f0b395d9"
      },
      "execution_count": null,
      "outputs": [
        {
          "output_type": "stream",
          "name": "stdout",
          "text": [
            "Epoch 1/10\n",
            "1563/1563 [==============================] - 20s 5ms/step - loss: 1.4784 - accuracy: 0.4653\n",
            "Epoch 2/10\n",
            "1563/1563 [==============================] - 7s 5ms/step - loss: 1.1586 - accuracy: 0.5934\n",
            "Epoch 3/10\n",
            "1563/1563 [==============================] - 7s 5ms/step - loss: 1.0328 - accuracy: 0.6382\n",
            "Epoch 4/10\n",
            "1563/1563 [==============================] - 8s 5ms/step - loss: 0.9517 - accuracy: 0.6683\n",
            "Epoch 5/10\n",
            "1563/1563 [==============================] - 7s 4ms/step - loss: 0.8907 - accuracy: 0.6885\n",
            "Epoch 6/10\n",
            "1563/1563 [==============================] - 7s 5ms/step - loss: 0.8412 - accuracy: 0.7051\n",
            "Epoch 7/10\n",
            "1563/1563 [==============================] - 7s 4ms/step - loss: 0.7999 - accuracy: 0.7205\n",
            "Epoch 8/10\n",
            "1563/1563 [==============================] - 7s 5ms/step - loss: 0.7598 - accuracy: 0.7346\n",
            "Epoch 9/10\n",
            "1563/1563 [==============================] - 7s 4ms/step - loss: 0.7269 - accuracy: 0.7450\n",
            "Epoch 10/10\n",
            "1563/1563 [==============================] - 7s 5ms/step - loss: 0.6912 - accuracy: 0.7579\n",
            "313/313 [==============================] - 1s 3ms/step - loss: 0.9197 - accuracy: 0.6928\n",
            "Model with activation: relu, filters: 32, kernel: (3, 3), stride: (1, 1)\n",
            "Test Accuracy: 0.692799985408783\n",
            "313/313 [==============================] - 1s 2ms/step\n",
            "Epoch 1/10\n",
            "1563/1563 [==============================] - 9s 4ms/step - loss: 1.9106 - accuracy: 0.2878\n",
            "Epoch 2/10\n",
            "1563/1563 [==============================] - 7s 5ms/step - loss: 1.6625 - accuracy: 0.3923\n",
            "Epoch 3/10\n",
            "1563/1563 [==============================] - 7s 4ms/step - loss: 1.5772 - accuracy: 0.4295\n",
            "Epoch 4/10\n",
            "1563/1563 [==============================] - 7s 5ms/step - loss: 1.5196 - accuracy: 0.4529\n",
            "Epoch 5/10\n",
            "1563/1563 [==============================] - 7s 4ms/step - loss: 1.4764 - accuracy: 0.4702\n",
            "Epoch 6/10\n",
            "1563/1563 [==============================] - 8s 5ms/step - loss: 1.4424 - accuracy: 0.4844\n",
            "Epoch 7/10\n",
            "1563/1563 [==============================] - 7s 4ms/step - loss: 1.4153 - accuracy: 0.4946\n",
            "Epoch 8/10\n",
            "1563/1563 [==============================] - 7s 5ms/step - loss: 1.3893 - accuracy: 0.5045\n",
            "Epoch 9/10\n",
            "1563/1563 [==============================] - 7s 5ms/step - loss: 1.3671 - accuracy: 0.5133\n",
            "Epoch 10/10\n",
            "1563/1563 [==============================] - 7s 4ms/step - loss: 1.3474 - accuracy: 0.5178\n",
            "313/313 [==============================] - 1s 3ms/step - loss: 1.4091 - accuracy: 0.5022\n",
            "Model with activation: relu, filters: 32, kernel: (3, 3), stride: (2, 2)\n",
            "Test Accuracy: 0.5022000074386597\n",
            "313/313 [==============================] - 1s 2ms/step\n",
            "Epoch 1/10\n",
            "1563/1563 [==============================] - 10s 5ms/step - loss: 1.5539 - accuracy: 0.4373\n",
            "Epoch 2/10\n",
            "1563/1563 [==============================] - 8s 5ms/step - loss: 1.2493 - accuracy: 0.5554\n",
            "Epoch 3/10\n",
            "1563/1563 [==============================] - 7s 4ms/step - loss: 1.1259 - accuracy: 0.6047\n",
            "Epoch 4/10\n",
            "1563/1563 [==============================] - 7s 5ms/step - loss: 1.0445 - accuracy: 0.6314\n",
            "Epoch 5/10\n",
            "1563/1563 [==============================] - 7s 5ms/step - loss: 0.9913 - accuracy: 0.6509\n",
            "Epoch 6/10\n",
            "1563/1563 [==============================] - 7s 5ms/step - loss: 0.9407 - accuracy: 0.6710\n",
            "Epoch 7/10\n",
            "1563/1563 [==============================] - 8s 5ms/step - loss: 0.8985 - accuracy: 0.6845\n",
            "Epoch 8/10\n",
            "1563/1563 [==============================] - 7s 4ms/step - loss: 0.8625 - accuracy: 0.6990\n",
            "Epoch 9/10\n",
            "1563/1563 [==============================] - 8s 5ms/step - loss: 0.8370 - accuracy: 0.7056\n",
            "Epoch 10/10\n",
            "1563/1563 [==============================] - 7s 4ms/step - loss: 0.8081 - accuracy: 0.7164\n",
            "313/313 [==============================] - 1s 3ms/step - loss: 1.0034 - accuracy: 0.6582\n",
            "Model with activation: relu, filters: 32, kernel: (5, 5), stride: (1, 1)\n",
            "Test Accuracy: 0.6582000255584717\n",
            "313/313 [==============================] - 1s 2ms/step\n",
            "Epoch 1/10\n",
            "1563/1563 [==============================] - 9s 4ms/step - loss: 1.7222 - accuracy: 0.3609\n",
            "Epoch 2/10\n",
            "1563/1563 [==============================] - 7s 5ms/step - loss: 1.4455 - accuracy: 0.4729\n",
            "Epoch 3/10\n",
            "1563/1563 [==============================] - 7s 4ms/step - loss: 1.3454 - accuracy: 0.5103\n",
            "Epoch 4/10\n",
            "1563/1563 [==============================] - 7s 5ms/step - loss: 1.2794 - accuracy: 0.5375\n",
            "Epoch 5/10\n",
            "1563/1563 [==============================] - 6s 4ms/step - loss: 1.2210 - accuracy: 0.5622\n",
            "Epoch 6/10\n",
            "1563/1563 [==============================] - 7s 5ms/step - loss: 1.1674 - accuracy: 0.5802\n",
            "Epoch 7/10\n",
            "1563/1563 [==============================] - 6s 4ms/step - loss: 1.1305 - accuracy: 0.5954\n",
            "Epoch 8/10\n",
            "1563/1563 [==============================] - 7s 5ms/step - loss: 1.0969 - accuracy: 0.6068\n",
            "Epoch 9/10\n",
            "1563/1563 [==============================] - 7s 4ms/step - loss: 1.0685 - accuracy: 0.6194\n",
            "Epoch 10/10\n",
            "1563/1563 [==============================] - 7s 4ms/step - loss: 1.0422 - accuracy: 0.6263\n",
            "313/313 [==============================] - 1s 3ms/step - loss: 1.1463 - accuracy: 0.5897\n",
            "Model with activation: relu, filters: 32, kernel: (5, 5), stride: (2, 2)\n",
            "Test Accuracy: 0.5896999835968018\n",
            "313/313 [==============================] - 1s 2ms/step\n",
            "Epoch 1/10\n",
            "1563/1563 [==============================] - 9s 5ms/step - loss: 1.4643 - accuracy: 0.4730\n",
            "Epoch 2/10\n",
            "1563/1563 [==============================] - 7s 5ms/step - loss: 1.1041 - accuracy: 0.6144\n",
            "Epoch 3/10\n",
            "1563/1563 [==============================] - 7s 4ms/step - loss: 0.9839 - accuracy: 0.6560\n",
            "Epoch 4/10\n",
            "1563/1563 [==============================] - 8s 5ms/step - loss: 0.9043 - accuracy: 0.6862\n",
            "Epoch 5/10\n",
            "1563/1563 [==============================] - 7s 5ms/step - loss: 0.8408 - accuracy: 0.7065\n",
            "Epoch 6/10\n",
            "1563/1563 [==============================] - 7s 5ms/step - loss: 0.7930 - accuracy: 0.7243\n",
            "Epoch 7/10\n",
            "1563/1563 [==============================] - 8s 5ms/step - loss: 0.7457 - accuracy: 0.7395\n",
            "Epoch 8/10\n",
            "1563/1563 [==============================] - 7s 5ms/step - loss: 0.7086 - accuracy: 0.7543\n",
            "Epoch 9/10\n",
            "1563/1563 [==============================] - 8s 5ms/step - loss: 0.6727 - accuracy: 0.7639\n",
            "Epoch 10/10\n",
            "1563/1563 [==============================] - 7s 5ms/step - loss: 0.6346 - accuracy: 0.7773\n",
            "313/313 [==============================] - 1s 3ms/step - loss: 0.9338 - accuracy: 0.7002\n",
            "Model with activation: relu, filters: 64, kernel: (3, 3), stride: (1, 1)\n",
            "Test Accuracy: 0.7002000212669373\n",
            "313/313 [==============================] - 1s 2ms/step\n",
            "Epoch 1/10\n",
            "1563/1563 [==============================] - 9s 5ms/step - loss: 1.8490 - accuracy: 0.3109\n",
            "Epoch 2/10\n",
            "1563/1563 [==============================] - 7s 5ms/step - loss: 1.6050 - accuracy: 0.4175\n",
            "Epoch 3/10\n",
            "1563/1563 [==============================] - 7s 4ms/step - loss: 1.5084 - accuracy: 0.4576\n",
            "Epoch 4/10\n",
            "1563/1563 [==============================] - 7s 5ms/step - loss: 1.4425 - accuracy: 0.4823\n",
            "Epoch 5/10\n",
            "1563/1563 [==============================] - 7s 5ms/step - loss: 1.3976 - accuracy: 0.4969\n",
            "Epoch 6/10\n",
            "1563/1563 [==============================] - 7s 5ms/step - loss: 1.3577 - accuracy: 0.5115\n",
            "Epoch 7/10\n",
            "1563/1563 [==============================] - 7s 5ms/step - loss: 1.3272 - accuracy: 0.5269\n",
            "Epoch 8/10\n",
            "1563/1563 [==============================] - 7s 4ms/step - loss: 1.2991 - accuracy: 0.5382\n",
            "Epoch 9/10\n",
            "1563/1563 [==============================] - 8s 5ms/step - loss: 1.2728 - accuracy: 0.5464\n",
            "Epoch 10/10\n",
            "1563/1563 [==============================] - 7s 4ms/step - loss: 1.2536 - accuracy: 0.5531\n",
            "313/313 [==============================] - 1s 3ms/step - loss: 1.3239 - accuracy: 0.5331\n",
            "Model with activation: relu, filters: 64, kernel: (3, 3), stride: (2, 2)\n",
            "Test Accuracy: 0.5331000089645386\n",
            "313/313 [==============================] - 1s 2ms/step\n",
            "Epoch 1/10\n",
            "1563/1563 [==============================] - 9s 5ms/step - loss: 1.5204 - accuracy: 0.4479\n",
            "Epoch 2/10\n",
            "1563/1563 [==============================] - 8s 5ms/step - loss: 1.1923 - accuracy: 0.5785\n",
            "Epoch 3/10\n",
            "1563/1563 [==============================] - 8s 5ms/step - loss: 1.0524 - accuracy: 0.6306\n",
            "Epoch 4/10\n",
            "1563/1563 [==============================] - 7s 5ms/step - loss: 0.9538 - accuracy: 0.6658\n",
            "Epoch 5/10\n",
            "1563/1563 [==============================] - 8s 5ms/step - loss: 0.8807 - accuracy: 0.6920\n",
            "Epoch 6/10\n",
            "1563/1563 [==============================] - 7s 5ms/step - loss: 0.8184 - accuracy: 0.7146\n",
            "Epoch 7/10\n",
            "1563/1563 [==============================] - 8s 5ms/step - loss: 0.7686 - accuracy: 0.7318\n",
            "Epoch 8/10\n",
            "1563/1563 [==============================] - 8s 5ms/step - loss: 0.7262 - accuracy: 0.7468\n",
            "Epoch 9/10\n",
            "1563/1563 [==============================] - 7s 5ms/step - loss: 0.6861 - accuracy: 0.7596\n",
            "Epoch 10/10\n",
            "1563/1563 [==============================] - 8s 5ms/step - loss: 0.6501 - accuracy: 0.7715\n",
            "313/313 [==============================] - 1s 3ms/step - loss: 0.9681 - accuracy: 0.6781\n",
            "Model with activation: relu, filters: 64, kernel: (5, 5), stride: (1, 1)\n",
            "Test Accuracy: 0.6780999898910522\n",
            "313/313 [==============================] - 1s 2ms/step\n",
            "Epoch 1/10\n",
            "1563/1563 [==============================] - 9s 5ms/step - loss: 1.6412 - accuracy: 0.3942\n",
            "Epoch 2/10\n",
            "1563/1563 [==============================] - 7s 4ms/step - loss: 1.3512 - accuracy: 0.5114\n",
            "Epoch 3/10\n",
            "1563/1563 [==============================] - 7s 5ms/step - loss: 1.2294 - accuracy: 0.5582\n",
            "Epoch 4/10\n",
            "1563/1563 [==============================] - 7s 5ms/step - loss: 1.1453 - accuracy: 0.5897\n",
            "Epoch 5/10\n",
            "1563/1563 [==============================] - 7s 4ms/step - loss: 1.0814 - accuracy: 0.6160\n",
            "Epoch 6/10\n",
            "1563/1563 [==============================] - 7s 5ms/step - loss: 1.0221 - accuracy: 0.6372\n",
            "Epoch 7/10\n",
            "1563/1563 [==============================] - 7s 4ms/step - loss: 0.9816 - accuracy: 0.6517\n",
            "Epoch 8/10\n",
            "1563/1563 [==============================] - 8s 5ms/step - loss: 0.9393 - accuracy: 0.6670\n",
            "Epoch 9/10\n",
            "1563/1563 [==============================] - 7s 4ms/step - loss: 0.9089 - accuracy: 0.6771\n",
            "Epoch 10/10\n",
            "1563/1563 [==============================] - 7s 5ms/step - loss: 0.8751 - accuracy: 0.6893\n",
            "313/313 [==============================] - 1s 3ms/step - loss: 1.1137 - accuracy: 0.6168\n",
            "Model with activation: relu, filters: 64, kernel: (5, 5), stride: (2, 2)\n",
            "Test Accuracy: 0.6168000102043152\n",
            "313/313 [==============================] - 1s 2ms/step\n",
            "Epoch 1/10\n",
            "1563/1563 [==============================] - 9s 5ms/step - loss: 1.4289 - accuracy: 0.4943\n",
            "Epoch 2/10\n",
            "1563/1563 [==============================] - 7s 4ms/step - loss: 1.1248 - accuracy: 0.6090\n",
            "Epoch 3/10\n",
            "1563/1563 [==============================] - 7s 5ms/step - loss: 1.0131 - accuracy: 0.6472\n",
            "Epoch 4/10\n",
            "1563/1563 [==============================] - 8s 5ms/step - loss: 0.9331 - accuracy: 0.6754\n",
            "Epoch 5/10\n",
            "1563/1563 [==============================] - 7s 4ms/step - loss: 0.8716 - accuracy: 0.6970\n",
            "Epoch 6/10\n",
            "1563/1563 [==============================] - 7s 5ms/step - loss: 0.8151 - accuracy: 0.7174\n",
            "Epoch 7/10\n",
            "1563/1563 [==============================] - 7s 4ms/step - loss: 0.7662 - accuracy: 0.7343\n",
            "Epoch 8/10\n",
            "1563/1563 [==============================] - 8s 5ms/step - loss: 0.7198 - accuracy: 0.7531\n",
            "Epoch 9/10\n",
            "1563/1563 [==============================] - 7s 4ms/step - loss: 0.6834 - accuracy: 0.7639\n",
            "Epoch 10/10\n",
            "1563/1563 [==============================] - 7s 5ms/step - loss: 0.6458 - accuracy: 0.7763\n",
            "313/313 [==============================] - 1s 3ms/step - loss: 1.0362 - accuracy: 0.6599\n",
            "Model with activation: tanh, filters: 32, kernel: (3, 3), stride: (1, 1)\n",
            "Test Accuracy: 0.6599000096321106\n",
            "313/313 [==============================] - 1s 2ms/step\n",
            "Epoch 1/10\n",
            "1563/1563 [==============================] - 9s 5ms/step - loss: 1.8001 - accuracy: 0.3406\n",
            "Epoch 2/10\n",
            "1563/1563 [==============================] - 7s 4ms/step - loss: 1.6104 - accuracy: 0.4212\n",
            "Epoch 3/10\n",
            "1563/1563 [==============================] - 7s 5ms/step - loss: 1.5405 - accuracy: 0.4492\n",
            "Epoch 4/10\n",
            "1563/1563 [==============================] - 7s 4ms/step - loss: 1.4940 - accuracy: 0.4670\n",
            "Epoch 5/10\n",
            "1563/1563 [==============================] - 7s 4ms/step - loss: 1.4551 - accuracy: 0.4811\n",
            "Epoch 6/10\n",
            "1563/1563 [==============================] - 7s 5ms/step - loss: 1.4271 - accuracy: 0.4916\n",
            "Epoch 7/10\n",
            "1563/1563 [==============================] - 7s 4ms/step - loss: 1.4037 - accuracy: 0.4988\n",
            "Epoch 8/10\n",
            "1563/1563 [==============================] - 7s 5ms/step - loss: 1.3809 - accuracy: 0.5085\n",
            "Epoch 9/10\n",
            "1563/1563 [==============================] - 7s 4ms/step - loss: 1.3626 - accuracy: 0.5138\n",
            "Epoch 10/10\n",
            "1563/1563 [==============================] - 8s 5ms/step - loss: 1.3466 - accuracy: 0.5217\n",
            "313/313 [==============================] - 1s 3ms/step - loss: 1.4200 - accuracy: 0.4990\n",
            "Model with activation: tanh, filters: 32, kernel: (3, 3), stride: (2, 2)\n",
            "Test Accuracy: 0.49900001287460327\n",
            "313/313 [==============================] - 1s 2ms/step\n",
            "Epoch 1/10\n",
            "1563/1563 [==============================] - 10s 5ms/step - loss: 1.4733 - accuracy: 0.4751\n",
            "Epoch 2/10\n",
            "1563/1563 [==============================] - 8s 5ms/step - loss: 1.1748 - accuracy: 0.5874\n",
            "Epoch 3/10\n",
            "1563/1563 [==============================] - 7s 5ms/step - loss: 1.0632 - accuracy: 0.6272\n",
            "Epoch 4/10\n",
            "1563/1563 [==============================] - 8s 5ms/step - loss: 0.9862 - accuracy: 0.6551\n",
            "Epoch 5/10\n",
            "1563/1563 [==============================] - 7s 5ms/step - loss: 0.9367 - accuracy: 0.6751\n",
            "Epoch 6/10\n",
            "1563/1563 [==============================] - 13s 8ms/step - loss: 0.8822 - accuracy: 0.6938\n",
            "Epoch 7/10\n",
            "1563/1563 [==============================] - 8s 5ms/step - loss: 0.8438 - accuracy: 0.7069\n",
            "Epoch 8/10\n",
            "1563/1563 [==============================] - 7s 4ms/step - loss: 0.8079 - accuracy: 0.7198\n",
            "Epoch 9/10\n",
            "1563/1563 [==============================] - 7s 5ms/step - loss: 0.7773 - accuracy: 0.7307\n",
            "Epoch 10/10\n",
            "1563/1563 [==============================] - 7s 5ms/step - loss: 0.7422 - accuracy: 0.7421\n",
            "313/313 [==============================] - 1s 3ms/step - loss: 1.1022 - accuracy: 0.6320\n",
            "Model with activation: tanh, filters: 32, kernel: (5, 5), stride: (1, 1)\n",
            "Test Accuracy: 0.6320000290870667\n",
            "313/313 [==============================] - 1s 2ms/step\n",
            "Epoch 1/10\n",
            "1563/1563 [==============================] - 9s 5ms/step - loss: 1.6008 - accuracy: 0.4187\n",
            "Epoch 2/10\n",
            "1563/1563 [==============================] - 7s 4ms/step - loss: 1.3191 - accuracy: 0.5257\n",
            "Epoch 3/10\n",
            "1563/1563 [==============================] - 8s 5ms/step - loss: 1.2184 - accuracy: 0.5659\n",
            "Epoch 4/10\n",
            "1563/1563 [==============================] - 7s 4ms/step - loss: 1.1433 - accuracy: 0.5955\n",
            "Epoch 5/10\n",
            "1563/1563 [==============================] - 8s 5ms/step - loss: 1.1002 - accuracy: 0.6107\n",
            "Epoch 6/10\n",
            "1563/1563 [==============================] - 7s 5ms/step - loss: 1.0537 - accuracy: 0.6268\n",
            "Epoch 7/10\n",
            "1563/1563 [==============================] - 7s 4ms/step - loss: 1.0195 - accuracy: 0.6413\n",
            "Epoch 8/10\n",
            "1563/1563 [==============================] - 7s 5ms/step - loss: 0.9932 - accuracy: 0.6484\n",
            "Epoch 9/10\n",
            "1563/1563 [==============================] - 7s 4ms/step - loss: 0.9682 - accuracy: 0.6595\n",
            "Epoch 10/10\n",
            "1563/1563 [==============================] - 7s 5ms/step - loss: 0.9440 - accuracy: 0.6686\n",
            "313/313 [==============================] - 1s 3ms/step - loss: 1.2014 - accuracy: 0.5876\n",
            "Model with activation: tanh, filters: 32, kernel: (5, 5), stride: (2, 2)\n",
            "Test Accuracy: 0.5875999927520752\n",
            "313/313 [==============================] - 1s 2ms/step\n",
            "Epoch 1/10\n",
            "1563/1563 [==============================] - 10s 5ms/step - loss: 1.3878 - accuracy: 0.5126\n",
            "Epoch 2/10\n",
            "1563/1563 [==============================] - 7s 5ms/step - loss: 1.0854 - accuracy: 0.6217\n",
            "Epoch 3/10\n",
            "1563/1563 [==============================] - 8s 5ms/step - loss: 0.9640 - accuracy: 0.6647\n",
            "Epoch 4/10\n",
            "1563/1563 [==============================] - 8s 5ms/step - loss: 0.8824 - accuracy: 0.6947\n",
            "Epoch 5/10\n",
            "1563/1563 [==============================] - 7s 5ms/step - loss: 0.8097 - accuracy: 0.7191\n",
            "Epoch 6/10\n",
            "1563/1563 [==============================] - 8s 5ms/step - loss: 0.7405 - accuracy: 0.7419\n",
            "Epoch 7/10\n",
            "1563/1563 [==============================] - 7s 4ms/step - loss: 0.6862 - accuracy: 0.7631\n",
            "Epoch 8/10\n",
            "1563/1563 [==============================] - 8s 5ms/step - loss: 0.6333 - accuracy: 0.7806\n",
            "Epoch 9/10\n",
            "1563/1563 [==============================] - 7s 5ms/step - loss: 0.5833 - accuracy: 0.7982\n",
            "Epoch 10/10\n",
            "1563/1563 [==============================] - 8s 5ms/step - loss: 0.5382 - accuracy: 0.8150\n",
            "313/313 [==============================] - 1s 3ms/step - loss: 1.1341 - accuracy: 0.6438\n",
            "Model with activation: tanh, filters: 64, kernel: (3, 3), stride: (1, 1)\n",
            "Test Accuracy: 0.6438000202178955\n",
            "313/313 [==============================] - 1s 2ms/step\n",
            "Epoch 1/10\n",
            "1563/1563 [==============================] - 11s 4ms/step - loss: 1.7347 - accuracy: 0.3713\n",
            "Epoch 2/10\n",
            "1563/1563 [==============================] - 7s 5ms/step - loss: 1.5143 - accuracy: 0.4594\n",
            "Epoch 3/10\n",
            "1563/1563 [==============================] - 8s 5ms/step - loss: 1.4204 - accuracy: 0.4937\n",
            "Epoch 4/10\n",
            "1563/1563 [==============================] - 7s 4ms/step - loss: 1.3616 - accuracy: 0.5190\n",
            "Epoch 5/10\n",
            "1563/1563 [==============================] - 7s 5ms/step - loss: 1.3115 - accuracy: 0.5345\n",
            "Epoch 6/10\n",
            "1563/1563 [==============================] - 7s 4ms/step - loss: 1.2702 - accuracy: 0.5531\n",
            "Epoch 7/10\n",
            "1563/1563 [==============================] - 7s 5ms/step - loss: 1.2350 - accuracy: 0.5641\n",
            "Epoch 8/10\n",
            "1563/1563 [==============================] - 7s 5ms/step - loss: 1.2131 - accuracy: 0.5737\n",
            "Epoch 9/10\n",
            "1563/1563 [==============================] - 7s 4ms/step - loss: 1.1866 - accuracy: 0.5826\n",
            "Epoch 10/10\n",
            "1563/1563 [==============================] - 7s 5ms/step - loss: 1.1630 - accuracy: 0.5915\n",
            "313/313 [==============================] - 1s 3ms/step - loss: 1.3423 - accuracy: 0.5290\n",
            "Model with activation: tanh, filters: 64, kernel: (3, 3), stride: (2, 2)\n",
            "Test Accuracy: 0.5289999842643738\n",
            "313/313 [==============================] - 1s 2ms/step\n",
            "Epoch 1/10\n",
            "1563/1563 [==============================] - 10s 5ms/step - loss: 1.4542 - accuracy: 0.4796\n",
            "Epoch 2/10\n",
            "1563/1563 [==============================] - 8s 5ms/step - loss: 1.1691 - accuracy: 0.5888\n",
            "Epoch 3/10\n",
            "1563/1563 [==============================] - 7s 5ms/step - loss: 1.0649 - accuracy: 0.6265\n",
            "Epoch 4/10\n",
            "1563/1563 [==============================] - 8s 5ms/step - loss: 0.9996 - accuracy: 0.6507\n",
            "Epoch 5/10\n",
            "1563/1563 [==============================] - 8s 5ms/step - loss: 0.9363 - accuracy: 0.6726\n",
            "Epoch 6/10\n",
            "1563/1563 [==============================] - 8s 5ms/step - loss: 0.8845 - accuracy: 0.6914\n",
            "Epoch 7/10\n",
            "1563/1563 [==============================] - 8s 5ms/step - loss: 0.8471 - accuracy: 0.7033\n",
            "Epoch 8/10\n",
            "1563/1563 [==============================] - 8s 5ms/step - loss: 0.8093 - accuracy: 0.7166\n",
            "Epoch 9/10\n",
            "1563/1563 [==============================] - 7s 5ms/step - loss: 0.7675 - accuracy: 0.7290\n",
            "Epoch 10/10\n",
            "1563/1563 [==============================] - 8s 5ms/step - loss: 0.7433 - accuracy: 0.7398\n",
            "313/313 [==============================] - 1s 3ms/step - loss: 1.0989 - accuracy: 0.6375\n",
            "Model with activation: tanh, filters: 64, kernel: (5, 5), stride: (1, 1)\n",
            "Test Accuracy: 0.637499988079071\n",
            "313/313 [==============================] - 1s 2ms/step\n",
            "Epoch 1/10\n",
            "1563/1563 [==============================] - 9s 5ms/step - loss: 1.5262 - accuracy: 0.4468\n",
            "Epoch 2/10\n",
            "1563/1563 [==============================] - 7s 5ms/step - loss: 1.2222 - accuracy: 0.5643\n",
            "Epoch 3/10\n",
            "1563/1563 [==============================] - 7s 4ms/step - loss: 1.0851 - accuracy: 0.6151\n",
            "Epoch 4/10\n",
            "1563/1563 [==============================] - 7s 5ms/step - loss: 0.9997 - accuracy: 0.6463\n",
            "Epoch 5/10\n",
            "1563/1563 [==============================] - 7s 4ms/step - loss: 0.9349 - accuracy: 0.6706\n",
            "Epoch 6/10\n",
            "1563/1563 [==============================] - 7s 5ms/step - loss: 0.8760 - accuracy: 0.6932\n",
            "Epoch 7/10\n",
            "1563/1563 [==============================] - 7s 5ms/step - loss: 0.8273 - accuracy: 0.7084\n",
            "Epoch 8/10\n",
            "1563/1563 [==============================] - 7s 5ms/step - loss: 0.7827 - accuracy: 0.7253\n",
            "Epoch 9/10\n",
            "1563/1563 [==============================] - 8s 5ms/step - loss: 0.7415 - accuracy: 0.7393\n",
            "Epoch 10/10\n",
            "1563/1563 [==============================] - 7s 5ms/step - loss: 0.7052 - accuracy: 0.7501\n",
            "313/313 [==============================] - 1s 3ms/step - loss: 1.1607 - accuracy: 0.6220\n",
            "Model with activation: tanh, filters: 64, kernel: (5, 5), stride: (2, 2)\n",
            "Test Accuracy: 0.621999979019165\n",
            "313/313 [==============================] - 1s 3ms/step\n",
            "Epoch 1/10\n",
            "1563/1563 [==============================] - 9s 5ms/step - loss: 2.0329 - accuracy: 0.2566\n",
            "Epoch 2/10\n",
            "1563/1563 [==============================] - 8s 5ms/step - loss: 1.7241 - accuracy: 0.3794\n",
            "Epoch 3/10\n",
            "1563/1563 [==============================] - 8s 5ms/step - loss: 1.5741 - accuracy: 0.4343\n",
            "Epoch 4/10\n",
            "1563/1563 [==============================] - 7s 4ms/step - loss: 1.4882 - accuracy: 0.4661\n",
            "Epoch 5/10\n",
            "1563/1563 [==============================] - 7s 5ms/step - loss: 1.4084 - accuracy: 0.4936\n",
            "Epoch 6/10\n",
            "1563/1563 [==============================] - 7s 5ms/step - loss: 1.3447 - accuracy: 0.5185\n",
            "Epoch 7/10\n",
            "1563/1563 [==============================] - 7s 4ms/step - loss: 1.2943 - accuracy: 0.5390\n",
            "Epoch 8/10\n",
            "1563/1563 [==============================] - 7s 5ms/step - loss: 1.2600 - accuracy: 0.5491\n",
            "Epoch 9/10\n",
            "1563/1563 [==============================] - 7s 4ms/step - loss: 1.2236 - accuracy: 0.5635\n",
            "Epoch 10/10\n",
            "1563/1563 [==============================] - 8s 5ms/step - loss: 1.1900 - accuracy: 0.5747\n",
            "313/313 [==============================] - 1s 3ms/step - loss: 1.2208 - accuracy: 0.5647\n",
            "Model with activation: sigmoid, filters: 32, kernel: (3, 3), stride: (1, 1)\n",
            "Test Accuracy: 0.5647000074386597\n",
            "313/313 [==============================] - 1s 2ms/step\n",
            "Epoch 1/10\n",
            "1563/1563 [==============================] - 9s 5ms/step - loss: 2.1413 - accuracy: 0.1800\n",
            "Epoch 2/10\n",
            "1563/1563 [==============================] - 7s 4ms/step - loss: 2.0152 - accuracy: 0.2365\n",
            "Epoch 3/10\n",
            "1563/1563 [==============================] - 7s 5ms/step - loss: 1.9451 - accuracy: 0.2685\n",
            "Epoch 4/10\n",
            "1563/1563 [==============================] - 7s 5ms/step - loss: 1.8921 - accuracy: 0.2922\n",
            "Epoch 5/10\n",
            "1563/1563 [==============================] - 7s 4ms/step - loss: 1.8491 - accuracy: 0.3108\n",
            "Epoch 6/10\n",
            "1563/1563 [==============================] - 7s 5ms/step - loss: 1.8098 - accuracy: 0.3271\n",
            "Epoch 7/10\n",
            "1563/1563 [==============================] - 7s 4ms/step - loss: 1.7779 - accuracy: 0.3441\n",
            "Epoch 8/10\n",
            "1563/1563 [==============================] - 7s 5ms/step - loss: 1.7473 - accuracy: 0.3578\n",
            "Epoch 9/10\n",
            "1563/1563 [==============================] - 7s 5ms/step - loss: 1.7235 - accuracy: 0.3691\n",
            "Epoch 10/10\n",
            "1563/1563 [==============================] - 7s 4ms/step - loss: 1.6990 - accuracy: 0.3758\n",
            "313/313 [==============================] - 1s 3ms/step - loss: 1.7022 - accuracy: 0.3768\n",
            "Model with activation: sigmoid, filters: 32, kernel: (3, 3), stride: (2, 2)\n",
            "Test Accuracy: 0.376800000667572\n",
            "313/313 [==============================] - 1s 2ms/step\n",
            "Epoch 1/10\n",
            "1563/1563 [==============================] - 8s 4ms/step - loss: 1.9440 - accuracy: 0.2857\n",
            "Epoch 2/10\n",
            "1563/1563 [==============================] - 8s 5ms/step - loss: 1.5745 - accuracy: 0.4285\n",
            "Epoch 3/10\n",
            "1563/1563 [==============================] - 7s 5ms/step - loss: 1.4350 - accuracy: 0.4799\n",
            "Epoch 4/10\n",
            "1563/1563 [==============================] - 7s 4ms/step - loss: 1.3536 - accuracy: 0.5116\n",
            "Epoch 5/10\n",
            "1563/1563 [==============================] - 7s 5ms/step - loss: 1.2917 - accuracy: 0.5370\n",
            "Epoch 6/10\n",
            "1563/1563 [==============================] - 7s 5ms/step - loss: 1.2378 - accuracy: 0.5584\n",
            "Epoch 7/10\n",
            "1563/1563 [==============================] - 8s 5ms/step - loss: 1.1902 - accuracy: 0.5767\n",
            "Epoch 8/10\n",
            "1563/1563 [==============================] - 8s 5ms/step - loss: 1.1489 - accuracy: 0.5908\n",
            "Epoch 9/10\n",
            "1563/1563 [==============================] - 7s 4ms/step - loss: 1.1115 - accuracy: 0.6051\n",
            "Epoch 10/10\n",
            "1563/1563 [==============================] - 8s 5ms/step - loss: 1.0755 - accuracy: 0.6198\n",
            "313/313 [==============================] - 1s 4ms/step - loss: 1.1525 - accuracy: 0.5934\n",
            "Model with activation: sigmoid, filters: 32, kernel: (5, 5), stride: (1, 1)\n",
            "Test Accuracy: 0.5934000015258789\n",
            "313/313 [==============================] - 1s 2ms/step\n",
            "Epoch 1/10\n",
            "1563/1563 [==============================] - 9s 5ms/step - loss: 2.0448 - accuracy: 0.2280\n",
            "Epoch 2/10\n",
            "1563/1563 [==============================] - 7s 4ms/step - loss: 1.8002 - accuracy: 0.3285\n",
            "Epoch 3/10\n",
            "1563/1563 [==============================] - 7s 5ms/step - loss: 1.6599 - accuracy: 0.3846\n",
            "Epoch 4/10\n",
            "1563/1563 [==============================] - 7s 5ms/step - loss: 1.5547 - accuracy: 0.4244\n",
            "Epoch 5/10\n",
            "1563/1563 [==============================] - 7s 4ms/step - loss: 1.4865 - accuracy: 0.4496\n",
            "Epoch 6/10\n",
            "1563/1563 [==============================] - 7s 5ms/step - loss: 1.4376 - accuracy: 0.4715\n",
            "Epoch 7/10\n",
            "1563/1563 [==============================] - 7s 4ms/step - loss: 1.3976 - accuracy: 0.4877\n",
            "Epoch 8/10\n",
            "1563/1563 [==============================] - 7s 4ms/step - loss: 1.3643 - accuracy: 0.5030\n",
            "Epoch 9/10\n",
            "1563/1563 [==============================] - 7s 5ms/step - loss: 1.3375 - accuracy: 0.5145\n",
            "Epoch 10/10\n",
            "1563/1563 [==============================] - 7s 4ms/step - loss: 1.3130 - accuracy: 0.5220\n",
            "313/313 [==============================] - 1s 3ms/step - loss: 1.3536 - accuracy: 0.5099\n",
            "Model with activation: sigmoid, filters: 32, kernel: (5, 5), stride: (2, 2)\n",
            "Test Accuracy: 0.5098999738693237\n",
            "313/313 [==============================] - 1s 2ms/step\n",
            "Epoch 1/10\n",
            "1563/1563 [==============================] - 9s 5ms/step - loss: 2.0023 - accuracy: 0.2705\n",
            "Epoch 2/10\n",
            "1563/1563 [==============================] - 8s 5ms/step - loss: 1.6718 - accuracy: 0.4019\n",
            "Epoch 3/10\n",
            "1563/1563 [==============================] - 8s 5ms/step - loss: 1.5456 - accuracy: 0.4473\n",
            "Epoch 4/10\n",
            "1563/1563 [==============================] - 7s 5ms/step - loss: 1.4752 - accuracy: 0.4719\n",
            "Epoch 5/10\n",
            "1563/1563 [==============================] - 8s 5ms/step - loss: 1.4150 - accuracy: 0.4935\n",
            "Epoch 6/10\n",
            "1563/1563 [==============================] - 8s 5ms/step - loss: 1.3690 - accuracy: 0.5100\n",
            "Epoch 7/10\n",
            "1563/1563 [==============================] - 8s 5ms/step - loss: 1.3237 - accuracy: 0.5270\n",
            "Epoch 8/10\n",
            "1563/1563 [==============================] - 8s 5ms/step - loss: 1.2808 - accuracy: 0.5434\n",
            "Epoch 9/10\n",
            "1563/1563 [==============================] - 8s 5ms/step - loss: 1.2431 - accuracy: 0.5597\n",
            "Epoch 10/10\n",
            "1563/1563 [==============================] - 8s 5ms/step - loss: 1.2037 - accuracy: 0.5705\n",
            "313/313 [==============================] - 1s 4ms/step - loss: 1.2636 - accuracy: 0.5442\n",
            "Model with activation: sigmoid, filters: 64, kernel: (3, 3), stride: (1, 1)\n",
            "Test Accuracy: 0.5442000031471252\n",
            "313/313 [==============================] - 1s 2ms/step\n",
            "Epoch 1/10\n",
            "1563/1563 [==============================] - 8s 4ms/step - loss: 2.1352 - accuracy: 0.1867\n",
            "Epoch 2/10\n",
            "1563/1563 [==============================] - 7s 4ms/step - loss: 1.9698 - accuracy: 0.2631\n",
            "Epoch 3/10\n",
            "1563/1563 [==============================] - 7s 4ms/step - loss: 1.8607 - accuracy: 0.3135\n",
            "Epoch 4/10\n",
            "1563/1563 [==============================] - 6s 4ms/step - loss: 1.7910 - accuracy: 0.3431\n",
            "Epoch 5/10\n",
            "1563/1563 [==============================] - 7s 4ms/step - loss: 1.7487 - accuracy: 0.3600\n",
            "Epoch 6/10\n",
            "1563/1563 [==============================] - 7s 4ms/step - loss: 1.7113 - accuracy: 0.3766\n",
            "Epoch 7/10\n",
            "1563/1563 [==============================] - 7s 5ms/step - loss: 1.6776 - accuracy: 0.3879\n",
            "Epoch 8/10\n",
            "1563/1563 [==============================] - 7s 5ms/step - loss: 1.6490 - accuracy: 0.4003\n",
            "Epoch 9/10\n",
            "1563/1563 [==============================] - 7s 5ms/step - loss: 1.6215 - accuracy: 0.4111\n",
            "Epoch 10/10\n",
            "1563/1563 [==============================] - 7s 5ms/step - loss: 1.5951 - accuracy: 0.4227\n",
            "313/313 [==============================] - 1s 3ms/step - loss: 1.5905 - accuracy: 0.4308\n",
            "Model with activation: sigmoid, filters: 64, kernel: (3, 3), stride: (2, 2)\n",
            "Test Accuracy: 0.4307999908924103\n",
            "313/313 [==============================] - 1s 2ms/step\n",
            "Epoch 1/10\n",
            "1563/1563 [==============================] - 9s 5ms/step - loss: 1.9404 - accuracy: 0.2865\n",
            "Epoch 2/10\n",
            "1563/1563 [==============================] - 7s 5ms/step - loss: 1.4963 - accuracy: 0.4604\n",
            "Epoch 3/10\n",
            "1563/1563 [==============================] - 8s 5ms/step - loss: 1.3658 - accuracy: 0.5079\n",
            "Epoch 4/10\n",
            "1563/1563 [==============================] - 8s 5ms/step - loss: 1.2825 - accuracy: 0.5440\n",
            "Epoch 5/10\n",
            "1563/1563 [==============================] - 7s 5ms/step - loss: 1.2061 - accuracy: 0.5686\n",
            "Epoch 6/10\n",
            "1563/1563 [==============================] - 8s 5ms/step - loss: 1.1397 - accuracy: 0.5965\n",
            "Epoch 7/10\n",
            "1563/1563 [==============================] - 8s 5ms/step - loss: 1.0795 - accuracy: 0.6207\n",
            "Epoch 8/10\n",
            "1563/1563 [==============================] - 7s 5ms/step - loss: 1.0311 - accuracy: 0.6370\n",
            "Epoch 9/10\n",
            "1563/1563 [==============================] - 8s 5ms/step - loss: 0.9886 - accuracy: 0.6541\n",
            "Epoch 10/10\n",
            "1563/1563 [==============================] - 8s 5ms/step - loss: 0.9492 - accuracy: 0.6678\n",
            "313/313 [==============================] - 1s 3ms/step - loss: 1.0879 - accuracy: 0.6225\n",
            "Model with activation: sigmoid, filters: 64, kernel: (5, 5), stride: (1, 1)\n",
            "Test Accuracy: 0.6225000023841858\n",
            "313/313 [==============================] - 1s 2ms/step\n"
          ]
        }
      ]
    },
    {
      "cell_type": "code",
      "source": [
        "import pandas as pd\n",
        "from sklearn.metrics import classification_report\n",
        "from tensorflow.keras import layers, models\n",
        "\n",
        "# Define the combinations\n",
        "combinations = [\n",
        "    (\"relu\", 32, (3, 3), (1, 1)),\n",
        "    (\"relu\", 64, (3, 3), (1, 1)),\n",
        "    (\"relu\", 32, (5, 5), (1, 1)),\n",
        "    (\"relu\", 32, (3, 3), (2, 2)),\n",
        "\n",
        "    (\"tanh\", 32, (3, 3), (1, 1)),\n",
        "    (\"tanh\", 64, (3, 3), (1, 1)),\n",
        "    (\"tanh\", 32, (5, 5), (1, 1)),\n",
        "    (\"tanh\", 32, (3, 3), (2, 2)),\n",
        "\n",
        "    (\"sigmoid\", 32, (3, 3), (1, 1)),\n",
        "    (\"sigmoid\", 64, (3, 3), (1, 1)),\n",
        "    (\"sigmoid\", 32, (5, 5), (1, 1)),\n",
        "    (\"sigmoid\", 32, (3, 3), (2, 2))\n",
        "]\n",
        "\n",
        "# Create a list to store classification reports\n",
        "classification_reports = []\n",
        "\n",
        "# Loop over combinations\n",
        "for activation, num_filters, kernel_size, stride in combinations:\n",
        "    # Create the CNN model\n",
        "    cnn_model = models.Sequential([\n",
        "        layers.Conv2D(filters=num_filters, kernel_size=kernel_size, strides=stride, activation=activation, input_shape=(32, 32, 3)),\n",
        "        layers.MaxPooling2D((2, 2)),\n",
        "        layers.Conv2D(filters=num_filters, kernel_size=kernel_size, strides=stride, activation=activation),\n",
        "        layers.MaxPooling2D((2, 2)),\n",
        "        layers.Flatten(),\n",
        "        layers.Dense(64, activation=activation),\n",
        "        layers.Dense(10, activation='softmax')\n",
        "    ])\n",
        "\n",
        "    # Compile the model\n",
        "    cnn_model.compile(optimizer='adam',\n",
        "                     loss='sparse_categorical_crossentropy',\n",
        "                     metrics=['accuracy'])\n",
        "\n",
        "    # Train the model\n",
        "    cnn_model.fit(X_train, y_train, epochs=10, verbose=0)\n",
        "\n",
        "    # Evaluate on test data\n",
        "    loss, accuracy = cnn_model.evaluate(X_test, y_test)\n",
        "    print(f\"Model with activation: {activation}, filters: {num_filters}, kernel: {kernel_size}, stride: {stride}\")\n",
        "    print(\"Test Accuracy:\", accuracy)\n",
        "\n",
        "    # Predict and calculate classification report\n",
        "    y_pred = cnn_model.predict(X_test)\n",
        "    y_pred_classes = [np.argmax(element) for element in y_pred]\n",
        "    report = classification_report(y_test, y_pred_classes, output_dict=True)\n",
        "\n",
        "    # Store classification report\n",
        "    model_info = {\n",
        "        'activation': activation,\n",
        "        'filters': num_filters,\n",
        "        'kernel': kernel_size,\n",
        "        'stride': stride,\n",
        "        'accuracy': accuracy,\n",
        "        'report': report\n",
        "    }\n",
        "    classification_reports.append(model_info)"
      ],
      "metadata": {
        "colab": {
          "base_uri": "https://localhost:8080/"
        },
        "id": "ifyLGMliSY7X",
        "outputId": "5ac336a3-c852-43cb-c46a-7f3ef7ffd0c8"
      },
      "execution_count": null,
      "outputs": [
        {
          "output_type": "stream",
          "name": "stdout",
          "text": [
            "313/313 [==============================] - 1s 3ms/step - loss: 0.9710 - accuracy: 0.6801\n",
            "Model with activation: relu, filters: 32, kernel: (3, 3), stride: (1, 1)\n",
            "Test Accuracy: 0.6801000237464905\n",
            "313/313 [==============================] - 1s 2ms/step\n",
            "313/313 [==============================] - 1s 3ms/step - loss: 0.8894 - accuracy: 0.7103\n",
            "Model with activation: relu, filters: 64, kernel: (3, 3), stride: (1, 1)\n",
            "Test Accuracy: 0.7103000283241272\n",
            "313/313 [==============================] - 1s 2ms/step\n",
            "313/313 [==============================] - 1s 3ms/step - loss: 0.9233 - accuracy: 0.6853\n",
            "Model with activation: relu, filters: 32, kernel: (5, 5), stride: (1, 1)\n",
            "Test Accuracy: 0.6852999925613403\n",
            "313/313 [==============================] - 1s 2ms/step\n",
            "313/313 [==============================] - 1s 3ms/step - loss: 1.3957 - accuracy: 0.5017\n",
            "Model with activation: relu, filters: 32, kernel: (3, 3), stride: (2, 2)\n",
            "Test Accuracy: 0.5016999840736389\n",
            "313/313 [==============================] - 1s 2ms/step\n",
            "313/313 [==============================] - 1s 3ms/step - loss: 1.0751 - accuracy: 0.6542\n",
            "Model with activation: tanh, filters: 32, kernel: (3, 3), stride: (1, 1)\n",
            "Test Accuracy: 0.65420001745224\n",
            "313/313 [==============================] - 1s 2ms/step\n",
            "313/313 [==============================] - 1s 3ms/step - loss: 1.1533 - accuracy: 0.6458\n",
            "Model with activation: tanh, filters: 64, kernel: (3, 3), stride: (1, 1)\n",
            "Test Accuracy: 0.645799994468689\n",
            "313/313 [==============================] - 1s 2ms/step\n",
            "313/313 [==============================] - 1s 3ms/step - loss: 1.1013 - accuracy: 0.6354\n",
            "Model with activation: tanh, filters: 32, kernel: (5, 5), stride: (1, 1)\n",
            "Test Accuracy: 0.6353999972343445\n",
            "313/313 [==============================] - 1s 2ms/step\n",
            "313/313 [==============================] - 1s 3ms/step - loss: 1.4116 - accuracy: 0.5024\n",
            "Model with activation: tanh, filters: 32, kernel: (3, 3), stride: (2, 2)\n",
            "Test Accuracy: 0.5023999810218811\n",
            "313/313 [==============================] - 1s 2ms/step\n",
            "313/313 [==============================] - 1s 3ms/step - loss: 1.1876 - accuracy: 0.5795\n",
            "Model with activation: sigmoid, filters: 32, kernel: (3, 3), stride: (1, 1)\n",
            "Test Accuracy: 0.5795000195503235\n",
            "313/313 [==============================] - 1s 2ms/step\n",
            "313/313 [==============================] - 1s 4ms/step - loss: 1.1316 - accuracy: 0.6008\n",
            "Model with activation: sigmoid, filters: 64, kernel: (3, 3), stride: (1, 1)\n",
            "Test Accuracy: 0.6007999777793884\n",
            "313/313 [==============================] - 1s 3ms/step\n",
            "313/313 [==============================] - 1s 3ms/step - loss: 1.1619 - accuracy: 0.5864\n",
            "Model with activation: sigmoid, filters: 32, kernel: (5, 5), stride: (1, 1)\n",
            "Test Accuracy: 0.5863999724388123\n",
            "313/313 [==============================] - 1s 2ms/step\n",
            "313/313 [==============================] - 1s 3ms/step - loss: 1.6972 - accuracy: 0.3816\n",
            "Model with activation: sigmoid, filters: 32, kernel: (3, 3), stride: (2, 2)\n",
            "Test Accuracy: 0.3815999925136566\n",
            "313/313 [==============================] - 1s 2ms/step\n"
          ]
        }
      ]
    },
    {
      "cell_type": "code",
      "source": [
        "print(classification_reports)"
      ],
      "metadata": {
        "colab": {
          "base_uri": "https://localhost:8080/"
        },
        "id": "tmIa2ecdXuai",
        "outputId": "6491714e-f0a2-4222-8d25-e24593918988"
      },
      "execution_count": null,
      "outputs": [
        {
          "output_type": "stream",
          "name": "stdout",
          "text": [
            "[{'activation': 'relu', 'filters': 32, 'kernel': (3, 3), 'stride': (1, 1), 'accuracy': 0.6801000237464905, 'report': {'0': {'precision': 0.6910569105691057, 'recall': 0.765, 'f1-score': 0.7261509254864736, 'support': 1000}, '1': {'precision': 0.7449781659388647, 'recall': 0.853, 'f1-score': 0.7953379953379952, 'support': 1000}, '2': {'precision': 0.5647948164146869, 'recall': 0.523, 'f1-score': 0.5430944963655244, 'support': 1000}, '3': {'precision': 0.5460440985732814, 'recall': 0.421, 'f1-score': 0.4754376058723885, 'support': 1000}, '4': {'precision': 0.6689576174112256, 'recall': 0.584, 'f1-score': 0.6235985050720768, 'support': 1000}, '5': {'precision': 0.651307596513076, 'recall': 0.523, 'f1-score': 0.5801442041042707, 'support': 1000}, '6': {'precision': 0.581081081081081, 'recall': 0.903, 'f1-score': 0.7071260767423649, 'support': 1000}, '7': {'precision': 0.7533401849948612, 'recall': 0.733, 'f1-score': 0.7430309173846934, 'support': 1000}, '8': {'precision': 0.8021978021978022, 'recall': 0.803, 'f1-score': 0.8025987006496752, 'support': 1000}, '9': {'precision': 0.8181818181818182, 'recall': 0.693, 'f1-score': 0.7504060638873848, 'support': 1000}, 'accuracy': 0.6801, 'macro avg': {'precision': 0.6821940091875802, 'recall': 0.6800999999999999, 'f1-score': 0.6746925490902848, 'support': 10000}, 'weighted avg': {'precision': 0.6821940091875803, 'recall': 0.6801, 'f1-score': 0.6746925490902848, 'support': 10000}}}, {'activation': 'relu', 'filters': 64, 'kernel': (3, 3), 'stride': (1, 1), 'accuracy': 0.7103000283241272, 'report': {'0': {'precision': 0.7595744680851064, 'recall': 0.714, 'f1-score': 0.7360824742268041, 'support': 1000}, '1': {'precision': 0.763668430335097, 'recall': 0.866, 'f1-score': 0.8116213683223993, 'support': 1000}, '2': {'precision': 0.5952380952380952, 'recall': 0.625, 'f1-score': 0.6097560975609756, 'support': 1000}, '3': {'precision': 0.5556818181818182, 'recall': 0.489, 'f1-score': 0.5202127659574468, 'support': 1000}, '4': {'precision': 0.6498455200823893, 'recall': 0.631, 'f1-score': 0.6402841197361745, 'support': 1000}, '5': {'precision': 0.6208251473477406, 'recall': 0.632, 'f1-score': 0.6263627353815658, 'support': 1000}, '6': {'precision': 0.798989898989899, 'recall': 0.791, 'f1-score': 0.7949748743718593, 'support': 1000}, '7': {'precision': 0.7231057062675398, 'recall': 0.773, 'f1-score': 0.7472208796520058, 'support': 1000}, '8': {'precision': 0.8264887063655031, 'recall': 0.805, 'f1-score': 0.8156028368794327, 'support': 1000}, '9': {'precision': 0.797741273100616, 'recall': 0.777, 'f1-score': 0.7872340425531914, 'support': 1000}, 'accuracy': 0.7103, 'macro avg': {'precision': 0.7091159063993805, 'recall': 0.7102999999999999, 'f1-score': 0.7089352194641856, 'support': 10000}, 'weighted avg': {'precision': 0.7091159063993805, 'recall': 0.7103, 'f1-score': 0.7089352194641855, 'support': 10000}}}, {'activation': 'relu', 'filters': 32, 'kernel': (5, 5), 'stride': (1, 1), 'accuracy': 0.6852999925613403, 'report': {'0': {'precision': 0.756786102062975, 'recall': 0.697, 'f1-score': 0.7256637168141593, 'support': 1000}, '1': {'precision': 0.8654761904761905, 'recall': 0.727, 'f1-score': 0.7902173913043479, 'support': 1000}, '2': {'precision': 0.6347087378640777, 'recall': 0.523, 'f1-score': 0.5734649122807016, 'support': 1000}, '3': {'precision': 0.4556213017751479, 'recall': 0.539, 'f1-score': 0.49381584974805315, 'support': 1000}, '4': {'precision': 0.6610169491525424, 'recall': 0.624, 'f1-score': 0.6419753086419753, 'support': 1000}, '5': {'precision': 0.6355140186915887, 'recall': 0.476, 'f1-score': 0.5443110348770726, 'support': 1000}, '6': {'precision': 0.7030716723549488, 'recall': 0.824, 'f1-score': 0.7587476979742173, 'support': 1000}, '7': {'precision': 0.7413622902270484, 'recall': 0.751, 'f1-score': 0.7461500248385494, 'support': 1000}, '8': {'precision': 0.7051177904142973, 'recall': 0.868, 'f1-score': 0.7781264007171672, 'support': 1000}, '9': {'precision': 0.7337488869100623, 'recall': 0.824, 'f1-score': 0.7762600094206311, 'support': 1000}, 'accuracy': 0.6853, 'macro avg': {'precision': 0.6892423939928879, 'recall': 0.6853, 'f1-score': 0.6828732346616875, 'support': 10000}, 'weighted avg': {'precision': 0.6892423939928879, 'recall': 0.6853, 'f1-score': 0.6828732346616875, 'support': 10000}}}, {'activation': 'relu', 'filters': 32, 'kernel': (3, 3), 'stride': (2, 2), 'accuracy': 0.5016999840736389, 'report': {'0': {'precision': 0.5682773109243697, 'recall': 0.541, 'f1-score': 0.5543032786885246, 'support': 1000}, '1': {'precision': 0.600844772967265, 'recall': 0.569, 'f1-score': 0.5844889573703133, 'support': 1000}, '2': {'precision': 0.4323189926547744, 'recall': 0.412, 'f1-score': 0.4219150025601639, 'support': 1000}, '3': {'precision': 0.32058047493403696, 'recall': 0.486, 'f1-score': 0.3863275039745628, 'support': 1000}, '4': {'precision': 0.47572815533980584, 'recall': 0.392, 'f1-score': 0.42982456140350883, 'support': 1000}, '5': {'precision': 0.42525252525252527, 'recall': 0.421, 'f1-score': 0.4231155778894472, 'support': 1000}, '6': {'precision': 0.6261585993820803, 'recall': 0.608, 'f1-score': 0.6169457128361238, 'support': 1000}, '7': {'precision': 0.5547445255474452, 'recall': 0.532, 'f1-score': 0.5431342521694742, 'support': 1000}, '8': {'precision': 0.5860759493670886, 'recall': 0.463, 'f1-score': 0.51731843575419, 'support': 1000}, '9': {'precision': 0.5400728597449909, 'recall': 0.593, 'f1-score': 0.5653002859866538, 'support': 1000}, 'accuracy': 0.5017, 'macro avg': {'precision': 0.5130054166114383, 'recall': 0.5017, 'f1-score': 0.5042673568632962, 'support': 10000}, 'weighted avg': {'precision': 0.5130054166114382, 'recall': 0.5017, 'f1-score': 0.5042673568632962, 'support': 10000}}}, {'activation': 'tanh', 'filters': 32, 'kernel': (3, 3), 'stride': (1, 1), 'accuracy': 0.65420001745224, 'report': {'0': {'precision': 0.6295054484492875, 'recall': 0.751, 'f1-score': 0.6849065207478341, 'support': 1000}, '1': {'precision': 0.7398843930635838, 'recall': 0.768, 'f1-score': 0.7536800785083416, 'support': 1000}, '2': {'precision': 0.5325443786982249, 'recall': 0.54, 'f1-score': 0.5362462760675274, 'support': 1000}, '3': {'precision': 0.5032051282051282, 'recall': 0.471, 'f1-score': 0.4865702479338843, 'support': 1000}, '4': {'precision': 0.6979310344827586, 'recall': 0.506, 'f1-score': 0.5866666666666667, 'support': 1000}, '5': {'precision': 0.5644670050761421, 'recall': 0.556, 'f1-score': 0.5602015113350126, 'support': 1000}, '6': {'precision': 0.7324083250743311, 'recall': 0.739, 'f1-score': 0.7356893977103036, 'support': 1000}, '7': {'precision': 0.669452181987001, 'recall': 0.721, 'f1-score': 0.6942705825710159, 'support': 1000}, '8': {'precision': 0.7632898696088265, 'recall': 0.761, 'f1-score': 0.7621432148222334, 'support': 1000}, '9': {'precision': 0.7105263157894737, 'recall': 0.729, 'f1-score': 0.71964461994077, 'support': 1000}, 'accuracy': 0.6542, 'macro avg': {'precision': 0.6543214080434757, 'recall': 0.6542000000000001, 'f1-score': 0.6520019116303588, 'support': 10000}, 'weighted avg': {'precision': 0.6543214080434756, 'recall': 0.6542, 'f1-score': 0.6520019116303589, 'support': 10000}}}, {'activation': 'tanh', 'filters': 64, 'kernel': (3, 3), 'stride': (1, 1), 'accuracy': 0.645799994468689, 'report': {'0': {'precision': 0.6319327731092437, 'recall': 0.752, 'f1-score': 0.6867579908675799, 'support': 1000}, '1': {'precision': 0.7466666666666667, 'recall': 0.784, 'f1-score': 0.7648780487804878, 'support': 1000}, '2': {'precision': 0.5087890625, 'recall': 0.521, 'f1-score': 0.5148221343873519, 'support': 1000}, '3': {'precision': 0.4961411245865491, 'recall': 0.45, 'f1-score': 0.4719454640797064, 'support': 1000}, '4': {'precision': 0.5901477832512315, 'recall': 0.599, 'f1-score': 0.5945409429280396, 'support': 1000}, '5': {'precision': 0.625, 'recall': 0.42, 'f1-score': 0.5023923444976077, 'support': 1000}, '6': {'precision': 0.6473469387755102, 'recall': 0.793, 'f1-score': 0.712808988764045, 'support': 1000}, '7': {'precision': 0.7469478357380688, 'recall': 0.673, 'f1-score': 0.708048395581273, 'support': 1000}, '8': {'precision': 0.7624602332979852, 'recall': 0.719, 'f1-score': 0.7400926402470406, 'support': 1000}, '9': {'precision': 0.6961789375582479, 'recall': 0.747, 'f1-score': 0.7206946454413892, 'support': 1000}, 'accuracy': 0.6458, 'macro avg': {'precision': 0.6451611355483503, 'recall': 0.6458000000000002, 'f1-score': 0.6416981595574522, 'support': 10000}, 'weighted avg': {'precision': 0.6451611355483502, 'recall': 0.6458, 'f1-score': 0.6416981595574521, 'support': 10000}}}, {'activation': 'tanh', 'filters': 32, 'kernel': (5, 5), 'stride': (1, 1), 'accuracy': 0.6353999972343445, 'report': {'0': {'precision': 0.6666666666666666, 'recall': 0.68, 'f1-score': 0.6732673267326733, 'support': 1000}, '1': {'precision': 0.7325800376647834, 'recall': 0.778, 'f1-score': 0.7546071774975752, 'support': 1000}, '2': {'precision': 0.48863636363636365, 'recall': 0.559, 'f1-score': 0.5214552238805971, 'support': 1000}, '3': {'precision': 0.46702127659574466, 'recall': 0.439, 'f1-score': 0.45257731958762887, 'support': 1000}, '4': {'precision': 0.6766561514195584, 'recall': 0.429, 'f1-score': 0.5250917992656059, 'support': 1000}, '5': {'precision': 0.5515350877192983, 'recall': 0.503, 'f1-score': 0.5261506276150628, 'support': 1000}, '6': {'precision': 0.6930875576036867, 'recall': 0.752, 'f1-score': 0.7213429256594723, 'support': 1000}, '7': {'precision': 0.6621983914209115, 'recall': 0.741, 'f1-score': 0.6993865030674847, 'support': 1000}, '8': {'precision': 0.7152073732718894, 'recall': 0.776, 'f1-score': 0.7443645083932853, 'support': 1000}, '9': {'precision': 0.6976976976976977, 'recall': 0.697, 'f1-score': 0.6973486743371686, 'support': 1000}, 'accuracy': 0.6354, 'macro avg': {'precision': 0.63512866036966, 'recall': 0.6354, 'f1-score': 0.6315592086036554, 'support': 10000}, 'weighted avg': {'precision': 0.63512866036966, 'recall': 0.6354, 'f1-score': 0.6315592086036554, 'support': 10000}}}, {'activation': 'tanh', 'filters': 32, 'kernel': (3, 3), 'stride': (2, 2), 'accuracy': 0.5023999810218811, 'report': {'0': {'precision': 0.6017410228509249, 'recall': 0.553, 'f1-score': 0.5763418447107869, 'support': 1000}, '1': {'precision': 0.5768844221105528, 'recall': 0.574, 'f1-score': 0.5754385964912281, 'support': 1000}, '2': {'precision': 0.45921052631578946, 'recall': 0.349, 'f1-score': 0.39659090909090905, 'support': 1000}, '3': {'precision': 0.32043734230445753, 'recall': 0.381, 'f1-score': 0.3481041571493833, 'support': 1000}, '4': {'precision': 0.5548872180451128, 'recall': 0.369, 'f1-score': 0.4432432432432432, 'support': 1000}, '5': {'precision': 0.4063926940639269, 'recall': 0.445, 'f1-score': 0.42482100238663484, 'support': 1000}, '6': {'precision': 0.5808124459809854, 'recall': 0.672, 'f1-score': 0.6230876216968011, 'support': 1000}, '7': {'precision': 0.4540270848182466, 'recall': 0.637, 'f1-score': 0.5301706200582604, 'support': 1000}, '8': {'precision': 0.5839493136219641, 'recall': 0.553, 'f1-score': 0.5680534155110427, 'support': 1000}, '9': {'precision': 0.5643678160919541, 'recall': 0.491, 'f1-score': 0.5251336898395722, 'support': 1000}, 'accuracy': 0.5024, 'macro avg': {'precision': 0.5102709886203914, 'recall': 0.5024, 'f1-score': 0.5010985100177863, 'support': 10000}, 'weighted avg': {'precision': 0.5102709886203914, 'recall': 0.5024, 'f1-score': 0.5010985100177862, 'support': 10000}}}, {'activation': 'sigmoid', 'filters': 32, 'kernel': (3, 3), 'stride': (1, 1), 'accuracy': 0.5795000195503235, 'report': {'0': {'precision': 0.625615763546798, 'recall': 0.635, 'f1-score': 0.6302729528535981, 'support': 1000}, '1': {'precision': 0.7184035476718403, 'recall': 0.648, 'f1-score': 0.6813880126182965, 'support': 1000}, '2': {'precision': 0.43125533731853116, 'recall': 0.505, 'f1-score': 0.4652233993551359, 'support': 1000}, '3': {'precision': 0.4506104328523862, 'recall': 0.406, 'f1-score': 0.42714360862703843, 'support': 1000}, '4': {'precision': 0.5436554132712457, 'recall': 0.467, 'f1-score': 0.5024206562668101, 'support': 1000}, '5': {'precision': 0.5775316455696202, 'recall': 0.365, 'f1-score': 0.4473039215686274, 'support': 1000}, '6': {'precision': 0.6411824668705403, 'recall': 0.629, 'f1-score': 0.635032811711257, 'support': 1000}, '7': {'precision': 0.6144256455921638, 'recall': 0.69, 'f1-score': 0.6500235515779557, 'support': 1000}, '8': {'precision': 0.6138535031847133, 'recall': 0.771, 'f1-score': 0.6835106382978724, 'support': 1000}, '9': {'precision': 0.5853448275862069, 'recall': 0.679, 'f1-score': 0.6287037037037037, 'support': 1000}, 'accuracy': 0.5795, 'macro avg': {'precision': 0.5801878583464045, 'recall': 0.5795, 'f1-score': 0.5751023256580295, 'support': 10000}, 'weighted avg': {'precision': 0.5801878583464046, 'recall': 0.5795, 'f1-score': 0.5751023256580295, 'support': 10000}}}, {'activation': 'sigmoid', 'filters': 64, 'kernel': (3, 3), 'stride': (1, 1), 'accuracy': 0.6007999777793884, 'report': {'0': {'precision': 0.7124711316397229, 'recall': 0.617, 'f1-score': 0.6613076098606645, 'support': 1000}, '1': {'precision': 0.7624565469293163, 'recall': 0.658, 'f1-score': 0.7063875469672571, 'support': 1000}, '2': {'precision': 0.5219178082191781, 'recall': 0.381, 'f1-score': 0.4404624277456648, 'support': 1000}, '3': {'precision': 0.47281921618204803, 'recall': 0.374, 'f1-score': 0.417643774427694, 'support': 1000}, '4': {'precision': 0.5233918128654971, 'recall': 0.537, 'f1-score': 0.5301085883514314, 'support': 1000}, '5': {'precision': 0.5118181818181818, 'recall': 0.563, 'f1-score': 0.5361904761904761, 'support': 1000}, '6': {'precision': 0.5930871956009427, 'recall': 0.755, 'f1-score': 0.6643202815662121, 'support': 1000}, '7': {'precision': 0.6242208370436332, 'recall': 0.701, 'f1-score': 0.6603862458784738, 'support': 1000}, '8': {'precision': 0.7120901639344263, 'recall': 0.695, 'f1-score': 0.7034412955465587, 'support': 1000}, '9': {'precision': 0.5806709265175719, 'recall': 0.727, 'f1-score': 0.6456483126110124, 'support': 1000}, 'accuracy': 0.6008, 'macro avg': {'precision': 0.6014943820750518, 'recall': 0.6008000000000001, 'f1-score': 0.5965896559145445, 'support': 10000}, 'weighted avg': {'precision': 0.6014943820750519, 'recall': 0.6008, 'f1-score': 0.5965896559145445, 'support': 10000}}}, {'activation': 'sigmoid', 'filters': 32, 'kernel': (5, 5), 'stride': (1, 1), 'accuracy': 0.5863999724388123, 'report': {'0': {'precision': 0.6917808219178082, 'recall': 0.606, 'f1-score': 0.6460554371002132, 'support': 1000}, '1': {'precision': 0.7456521739130435, 'recall': 0.686, 'f1-score': 0.7145833333333333, 'support': 1000}, '2': {'precision': 0.40953822861468586, 'recall': 0.541, 'f1-score': 0.46617837139164153, 'support': 1000}, '3': {'precision': 0.4346701164294955, 'recall': 0.336, 'f1-score': 0.3790186125211506, 'support': 1000}, '4': {'precision': 0.507981220657277, 'recall': 0.541, 'f1-score': 0.5239709443099274, 'support': 1000}, '5': {'precision': 0.5389527458492975, 'recall': 0.422, 'f1-score': 0.47335950644980374, 'support': 1000}, '6': {'precision': 0.5610687022900763, 'recall': 0.735, 'f1-score': 0.6363636363636364, 'support': 1000}, '7': {'precision': 0.7971223021582734, 'recall': 0.554, 'f1-score': 0.6536873156342183, 'support': 1000}, '8': {'precision': 0.622152395915161, 'recall': 0.792, 'f1-score': 0.6968763748350197, 'support': 1000}, '9': {'precision': 0.6615853658536586, 'recall': 0.651, 'f1-score': 0.6562500000000001, 'support': 1000}, 'accuracy': 0.5864, 'macro avg': {'precision': 0.5970504073598777, 'recall': 0.5864, 'f1-score': 0.5846343531938943, 'support': 10000}, 'weighted avg': {'precision': 0.5970504073598777, 'recall': 0.5864, 'f1-score': 0.5846343531938945, 'support': 10000}}}, {'activation': 'sigmoid', 'filters': 32, 'kernel': (3, 3), 'stride': (2, 2), 'accuracy': 0.3815999925136566, 'report': {'0': {'precision': 0.524896265560166, 'recall': 0.253, 'f1-score': 0.34143049932523617, 'support': 1000}, '1': {'precision': 0.48129423660262893, 'recall': 0.476, 'f1-score': 0.47863247863247865, 'support': 1000}, '2': {'precision': 0.36298932384341637, 'recall': 0.204, 'f1-score': 0.26120358514724706, 'support': 1000}, '3': {'precision': 0.2816793893129771, 'recall': 0.369, 'f1-score': 0.3194805194805195, 'support': 1000}, '4': {'precision': 0.3698501872659176, 'recall': 0.395, 'f1-score': 0.38201160541586077, 'support': 1000}, '5': {'precision': 0.4017094017094017, 'recall': 0.235, 'f1-score': 0.29652996845425866, 'support': 1000}, '6': {'precision': 0.4414715719063545, 'recall': 0.396, 'f1-score': 0.4175013178703215, 'support': 1000}, '7': {'precision': 0.3553398058252427, 'recall': 0.366, 'f1-score': 0.3605911330049261, 'support': 1000}, '8': {'precision': 0.39300411522633744, 'recall': 0.573, 'f1-score': 0.4662327095199349, 'support': 1000}, '9': {'precision': 0.3390982087708462, 'recall': 0.549, 'f1-score': 0.41924398625429554, 'support': 1000}, 'accuracy': 0.3816, 'macro avg': {'precision': 0.39513325060232884, 'recall': 0.3816, 'f1-score': 0.37428578031050785, 'support': 10000}, 'weighted avg': {'precision': 0.39513325060232884, 'recall': 0.3816, 'f1-score': 0.3742857803105079, 'support': 10000}}}]\n"
          ]
        }
      ]
    },
    {
      "cell_type": "code",
      "source": [
        "# Create a pandas DataFrame from the data\n",
        "df = pd.DataFrame(classification_reports)\n",
        "\n",
        "# Specify the order of columns\n",
        "column_order = [\"activation\", \"filters\", \"kernel\", \"stride\", \"accuracy\"]\n",
        "\n",
        "# Reorder columns in the DataFrame\n",
        "df = df[column_order]\n",
        "\n",
        "# Save DataFrame to Excel\n",
        "excel_path = \"classification_results.xlsx\"\n",
        "df.to_excel(excel_path, index=False)\n",
        "\n",
        "print(f\"Excel table saved to {excel_path}\")"
      ],
      "metadata": {
        "colab": {
          "base_uri": "https://localhost:8080/"
        },
        "id": "Dx61jPhbYjGi",
        "outputId": "1165d669-3bc6-4e44-bf61-d36064571d4c"
      },
      "execution_count": null,
      "outputs": [
        {
          "output_type": "stream",
          "name": "stdout",
          "text": [
            "Excel table saved to classification_results.xlsx\n"
          ]
        }
      ]
    },
    {
      "cell_type": "code",
      "source": [
        "import matplotlib.pyplot as plt\n",
        "\n",
        "# Sample data for relu combinations (replace with your actual data)\n",
        "relu_data = [\n",
        "    (32, '3x3', 1, 0.680100024),\n",
        "    (64, '3x3', 1, 0.710300028),\n",
        "    (32, '5x5', 2, 0.685299993),\n",
        "    (32, '3x3', 2, 0.501699984),\n",
        "]\n",
        "\n",
        "# Extract data for plotting\n",
        "labels = [f\"{item[0]}-{item[1]}-{item[2]}\" for item in relu_data]\n",
        "accuracies = [item[3] for item in relu_data]\n",
        "\n",
        "# Create a bar plot\n",
        "plt.figure(figsize=(8, 6))\n",
        "bars = plt.bar(labels, accuracies, color='indianred')\n",
        "plt.xlabel('Combinations (Filters-Kernel-Stride)')\n",
        "plt.ylabel('Accuracy')\n",
        "plt.title('Accuracy Comparison for relu Combinations')\n",
        "plt.xticks(rotation=0, ha=\"center\")  # Center x-axis labels\n",
        "plt.ylim(0, 1)  # Set y-axis limit\n",
        "\n",
        "# Display accuracy values above each bar\n",
        "for bar, accuracy in zip(bars, accuracies):\n",
        "    plt.text(bar.get_x() + bar.get_width() / 2, bar.get_height(), f\"{accuracy:.3f}\", ha='center', va='bottom')\n",
        "\n",
        "# Show the plot\n",
        "plt.tight_layout()\n",
        "plt.show()\n"
      ],
      "metadata": {
        "colab": {
          "base_uri": "https://localhost:8080/",
          "height": 607
        },
        "id": "Cc7IdgHja4Vn",
        "outputId": "f9bbc136-31be-4ae1-e7bb-f06318fb6643"
      },
      "execution_count": null,
      "outputs": [
        {
          "output_type": "display_data",
          "data": {
            "text/plain": [
              "<Figure size 800x600 with 1 Axes>"
            ],
            "image/png": "[encoded data removed]"
          },
          "metadata": {}
        }
      ]
    },
    {
      "cell_type": "code",
      "source": [
        "import matplotlib.pyplot as plt\n",
        "\n",
        "# Sample data for tanh combinations (replace with your actual data)\n",
        "tanh_data = [\n",
        "    (32, '3x3', 1, 0.654200017),\n",
        "    (64, '3x3', 1, 0.645799994),\n",
        "    (32, '5x5', 1, 0.635399997),\n",
        "    (32, '3x3', 2, 0.502399981),\n",
        "]\n",
        "\n",
        "# Extract data for plotting\n",
        "labels = [f\"{item[0]}-{item[1]}-{item[2]}\" for item in tanh_data]\n",
        "accuracies = [item[3] for item in tanh_data]\n",
        "\n",
        "# Create a bar plot\n",
        "plt.figure(figsize=(8, 6))\n",
        "bars = plt.bar(labels, accuracies, color='royalblue')\n",
        "plt.xlabel('Combinations (Filters-Kernel-Stride)')\n",
        "plt.ylabel('Accuracy')\n",
        "plt.title('Accuracy Comparison for tanh Combinations')\n",
        "plt.xticks(rotation=0, ha=\"center\")  # Center x-axis labels\n",
        "plt.ylim(0, 1)  # Set y-axis limit\n",
        "\n",
        "# Display accuracy values above each bar\n",
        "for bar, accuracy in zip(bars, accuracies):\n",
        "    plt.text(bar.get_x() + bar.get_width() / 2, bar.get_height(), f\"{accuracy:.3f}\", ha='center', va='bottom')\n",
        "\n",
        "# Show the plot\n",
        "plt.tight_layout()\n",
        "plt.show()\n"
      ],
      "metadata": {
        "colab": {
          "base_uri": "https://localhost:8080/",
          "height": 607
        },
        "id": "G1Pi9h1VbMaY",
        "outputId": "8a137ded-d6ad-40b7-ef41-611caae37b37"
      },
      "execution_count": null,
      "outputs": [
        {
          "output_type": "display_data",
          "data": {
            "text/plain": [
              "<Figure size 800x600 with 1 Axes>"
            ],
            "image/png": "[encoded data removed]"
          },
          "metadata": {}
        }
      ]
    },
    {
      "cell_type": "code",
      "source": [
        "import matplotlib.pyplot as plt\n",
        "\n",
        "# Sample data for sigmoid combinations (replace with your actual data)\n",
        "sigmoid_data = [\n",
        "    (32, '3x3', 1, 0.57950002),\n",
        "    (64, '3x3', 1, 0.600799978),\n",
        "    (32, '5x5', 1, 0.586399972),\n",
        "    (32, '3x3', 2, 0.381599993),\n",
        "]\n",
        "\n",
        "# Extract data for plotting\n",
        "labels = [f\"{item[0]}-{item[1]}-{item[2]}\" for item in sigmoid_data]\n",
        "accuracies = [item[3] for item in sigmoid_data]\n",
        "\n",
        "# Create a bar plot\n",
        "plt.figure(figsize=(8, 6))\n",
        "bars = plt.bar(labels, accuracies, color='mediumseagreen')\n",
        "plt.xlabel('Combinations (Filters-Kernel-Stride)')\n",
        "plt.ylabel('Accuracy')\n",
        "plt.title('Accuracy Comparison for sigmoid Combinations')\n",
        "plt.xticks(rotation=0, ha=\"center\")  # Center x-axis labels\n",
        "plt.ylim(0, 1)  # Set y-axis limit\n",
        "\n",
        "# Display accuracy values above each bar\n",
        "for bar, accuracy in zip(bars, accuracies):\n",
        "    plt.text(bar.get_x() + bar.get_width() / 2, bar.get_height(), f\"{accuracy:.3f}\", ha='center', va='bottom')\n",
        "\n",
        "# Show the plot\n",
        "plt.tight_layout()\n",
        "plt.show()\n"
      ],
      "metadata": {
        "colab": {
          "base_uri": "https://localhost:8080/",
          "height": 607
        },
        "id": "L_ujqamHbn_W",
        "outputId": "25784452-37a5-48e9-8365-aedf4c1fa5a1"
      },
      "execution_count": null,
      "outputs": [
        {
          "output_type": "display_data",
          "data": {
            "text/plain": [
              "<Figure size 800x600 with 1 Axes>"
            ],
            "image/png": "[encoded data removed]"
          },
          "metadata": {}
        }
      ]
    },
    {
      "cell_type": "code",
      "source": [
        "import matplotlib.pyplot as plt\n",
        "\n",
        "# Sample data for comparison (replace with your actual data)\n",
        "comparison_data = [\n",
        "    (\"relu\", 32, '3x3', 1, 0.680100024),\n",
        "    (\"tanh\", 32, '3x3', 1, 0.654200017),\n",
        "    (\"sigmoid\", 32, '3x3', 1, 0.57950002),\n",
        "]\n",
        "\n",
        "# Extract data for plotting\n",
        "labels = [f\"{item[0]}-{item[1]}-{item[2]}-{item[3]}\" for item in comparison_data]\n",
        "accuracies = [item[4] for item in comparison_data]\n",
        "\n",
        "# Create a bar plot\n",
        "plt.figure(figsize=(8, 6))\n",
        "bars = plt.bar(labels, accuracies, color=['indianred', 'royalblue', 'mediumseagreen'])\n",
        "plt.xlabel('Combinations (Activation-Filters-Kernel-Stride)')\n",
        "plt.ylabel('Accuracy')\n",
        "plt.title('Accuracy Comparison for Different Activation Functions')\n",
        "plt.xticks(rotation=0, ha=\"center\")  # Center x-axis labels\n",
        "plt.ylim(0, 1)  # Set y-axis limit\n",
        "\n",
        "# Display accuracy values above each bar\n",
        "for bar, accuracy in zip(bars, accuracies):\n",
        "    plt.text(bar.get_x() + bar.get_width() / 2, bar.get_height(), f\"{accuracy:.3f}\", ha='center', va='bottom')\n",
        "\n",
        "# Show the plot\n",
        "plt.tight_layout()\n",
        "plt.show()\n"
      ],
      "metadata": {
        "colab": {
          "base_uri": "https://localhost:8080/",
          "height": 607
        },
        "id": "fZImBYM_cDoE",
        "outputId": "566c97a4-7004-42bb-bb5d-ce5f99d4e02a"
      },
      "execution_count": null,
      "outputs": [
        {
          "output_type": "display_data",
          "data": {
            "text/plain": [
              "<Figure size 800x600 with 1 Axes>"
            ],
            "image/png": "[encoded data removed]"
          },
          "metadata": {}
        }
      ]
    },
    {
      "cell_type": "code",
      "source": [
        "print(len(classification_reports))"
      ],
      "metadata": {
        "colab": {
          "base_uri": "https://localhost:8080/"
        },
        "id": "Ls1ZU_Eef0BI",
        "outputId": "9ca4ec24-c56f-4db3-ea96-e2ceb3fdcf8e"
      },
      "execution_count": null,
      "outputs": [
        {
          "output_type": "stream",
          "name": "stdout",
          "text": [
            "12\n"
          ]
        }
      ]
    },
    {
      "cell_type": "code",
      "source": [
        "data=[]\n",
        "for i in classification_reports:\n",
        "    data.append({\n",
        "        'activation': i['activation'],\n",
        "        'filters': i['filters'],\n",
        "        'kernel': i['kernel'],\n",
        "        'stride': i['stride'],\n",
        "        'accuracy': i['accuracy'],\n",
        "        'macro avg precision': i['report']['macro avg']['precision'],\n",
        "        'macro avg recall': i['report']['macro avg']['recall'],\n",
        "        'macro avg f1-score': i['report']['macro avg']['f1-score']\n",
        "    })"
      ],
      "metadata": {
        "id": "zNmuMtQvf6aE"
      },
      "execution_count": null,
      "outputs": []
    },
    {
      "cell_type": "code",
      "source": [
        "print(data)"
      ],
      "metadata": {
        "colab": {
          "base_uri": "https://localhost:8080/"
        },
        "id": "CU4OvLKLiQ0n",
        "outputId": "21b53c76-3f73-4770-ffc9-bf64b6af1948"
      },
      "execution_count": null,
      "outputs": [
        {
          "output_type": "stream",
          "name": "stdout",
          "text": [
            "[{'activation': 'relu', 'filters': 32, 'kernel': (3, 3), 'stride': (1, 1), 'accuracy': 0.6801000237464905, 'macro avg precision': 0.6821940091875802, 'macro avg recall': 0.6800999999999999, 'macro avg f1-score': 0.6746925490902848}, {'activation': 'relu', 'filters': 64, 'kernel': (3, 3), 'stride': (1, 1), 'accuracy': 0.7103000283241272, 'macro avg precision': 0.7091159063993805, 'macro avg recall': 0.7102999999999999, 'macro avg f1-score': 0.7089352194641856}, {'activation': 'relu', 'filters': 32, 'kernel': (5, 5), 'stride': (1, 1), 'accuracy': 0.6852999925613403, 'macro avg precision': 0.6892423939928879, 'macro avg recall': 0.6853, 'macro avg f1-score': 0.6828732346616875}, {'activation': 'relu', 'filters': 32, 'kernel': (3, 3), 'stride': (2, 2), 'accuracy': 0.5016999840736389, 'macro avg precision': 0.5130054166114383, 'macro avg recall': 0.5017, 'macro avg f1-score': 0.5042673568632962}, {'activation': 'tanh', 'filters': 32, 'kernel': (3, 3), 'stride': (1, 1), 'accuracy': 0.65420001745224, 'macro avg precision': 0.6543214080434757, 'macro avg recall': 0.6542000000000001, 'macro avg f1-score': 0.6520019116303588}, {'activation': 'tanh', 'filters': 64, 'kernel': (3, 3), 'stride': (1, 1), 'accuracy': 0.645799994468689, 'macro avg precision': 0.6451611355483503, 'macro avg recall': 0.6458000000000002, 'macro avg f1-score': 0.6416981595574522}, {'activation': 'tanh', 'filters': 32, 'kernel': (5, 5), 'stride': (1, 1), 'accuracy': 0.6353999972343445, 'macro avg precision': 0.63512866036966, 'macro avg recall': 0.6354, 'macro avg f1-score': 0.6315592086036554}, {'activation': 'tanh', 'filters': 32, 'kernel': (3, 3), 'stride': (2, 2), 'accuracy': 0.5023999810218811, 'macro avg precision': 0.5102709886203914, 'macro avg recall': 0.5024, 'macro avg f1-score': 0.5010985100177863}, {'activation': 'sigmoid', 'filters': 32, 'kernel': (3, 3), 'stride': (1, 1), 'accuracy': 0.5795000195503235, 'macro avg precision': 0.5801878583464045, 'macro avg recall': 0.5795, 'macro avg f1-score': 0.5751023256580295}, {'activation': 'sigmoid', 'filters': 64, 'kernel': (3, 3), 'stride': (1, 1), 'accuracy': 0.6007999777793884, 'macro avg precision': 0.6014943820750518, 'macro avg recall': 0.6008000000000001, 'macro avg f1-score': 0.5965896559145445}, {'activation': 'sigmoid', 'filters': 32, 'kernel': (5, 5), 'stride': (1, 1), 'accuracy': 0.5863999724388123, 'macro avg precision': 0.5970504073598777, 'macro avg recall': 0.5864, 'macro avg f1-score': 0.5846343531938943}, {'activation': 'sigmoid', 'filters': 32, 'kernel': (3, 3), 'stride': (2, 2), 'accuracy': 0.3815999925136566, 'macro avg precision': 0.39513325060232884, 'macro avg recall': 0.3816, 'macro avg f1-score': 0.37428578031050785}]\n"
          ]
        }
      ]
    },
    {
      "cell_type": "code",
      "source": [
        "# Create a DataFrame\n",
        "df = pd.DataFrame(data)\n",
        "\n",
        "# Define column order for Excel\n",
        "column_order = ['activation', 'filters', 'kernel', 'stride', 'accuracy', 'macro avg precision', 'macro avg recall', 'macro avg f1-score']\n",
        "\n",
        "# Reorder DataFrame columns\n",
        "df = df[column_order]\n",
        "\n",
        "# Save the DataFrame to an Excel file with headings\n",
        "excel_filename = 'results.xlsx'\n",
        "df.to_excel(excel_filename, index=False)"
      ],
      "metadata": {
        "id": "QtidfJP6jSOO"
      },
      "execution_count": null,
      "outputs": []
    }
  ],
  "metadata": {
    "kernelspec": {
      "display_name": "Python 3",
      "name": "python3"
    },
    "language_info": {
      "codemirror_mode": {
        "name": "ipython",
        "version": 3
      },
      "file_extension": ".py",
      "mimetype": "text/x-python",
      "name": "python",
      "nbconvert_exporter": "python",
      "pygments_lexer": "ipython3",
      "version": "3.8.5"
    },
    "colab": {
      "provenance": [],
      "gpuType": "T4"
    },
    "accelerator": "GPU"
  },
  "nbformat": 4,
  "nbformat_minor": 0
}